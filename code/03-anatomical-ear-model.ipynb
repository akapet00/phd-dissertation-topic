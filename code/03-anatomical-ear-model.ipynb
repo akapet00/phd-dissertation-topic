{
 "cells": [
  {
   "cell_type": "code",
   "execution_count": null,
   "id": "69418c02-a61e-4c79-916e-0fcb64c1bf0c",
   "metadata": {},
   "outputs": [],
   "source": [
    "import itertools\n",
    "import os\n",
    "\n",
    "import matplotlib.pyplot as plt\n",
    "from mpl_toolkits.mplot3d.art3d import Poly3DCollection\n",
    "import numpy as np\n",
    "import open3d as o3d\n",
    "import pandas as pd\n",
    "from scipy import spatial\n",
    "\n",
    "from utils import estimate_normals, normals_to_rgb\n",
    "from plotting import set_axes_equal, set_defense_context, draw_unit_cube"
   ]
  },
  {
   "cell_type": "code",
   "execution_count": null,
   "id": "a33a5e8a-3f5d-4ef7-ad5a-062e7a768ec6",
   "metadata": {},
   "outputs": [],
   "source": [
    "%config InlineBackend.figure_format = 'retina'"
   ]
  },
  {
   "cell_type": "code",
   "execution_count": null,
   "id": "ab56f9dd-37ab-4710-b249-d7a7682ebaa8",
   "metadata": {},
   "outputs": [],
   "source": [
    "def add_coordinate_frame(ax):\n",
    "    \"\"\"Set RGB coordinate frame to axes.\n",
    "    \n",
    "    Parameters\n",
    "    ----------\n",
    "    ax : matplotlib.axes._subplots.Axes3DSubplot\n",
    "        3-D axes subplot.\n",
    "    \n",
    "    Returns\n",
    "    -------\n",
    "    matplotlib.axes._subplots.Axes3DSubplot\n",
    "        Axes with coordinate frame.\n",
    "    \"\"\"\n",
    "    ax.quiver(-1.5, -1, -1.5, 0.75, 0, 0, color='r')\n",
    "    ax.text(0, -1, -1.5, s='$x$', color='r', fontweight='bold')\n",
    "    ax.quiver(-1.5, -1, -1.5, 0, 0.75, 0, color='g')\n",
    "    ax.text(-1.5, +0.25, -1.5, s='$y$', color='g', fontweight='bold')\n",
    "    ax.quiver(-1.5, -1, -1.5, 0, 0, 0.75, color='b')\n",
    "    ax.text(-1.5, -1, -0.5, s='$z$', color='b', fontweight='bold')\n",
    "    ax.scatter(-1.5, -1, -1.5, color='k', depthshade=False)\n",
    "    return ax"
   ]
  },
  {
   "cell_type": "code",
   "execution_count": null,
   "id": "67492ae7-34d1-4078-ba14-328443e4da2e",
   "metadata": {},
   "outputs": [],
   "source": [
    "# load ear coordinates\n",
    "\n",
    "xyz = pd.read_csv(os.path.join('data', 'ear.xyz')).values * 100  # in cm\n",
    "pcd = o3d.geometry.PointCloud()\n",
    "pcd.points = o3d.utility.Vector3dVector(xyz)"
   ]
  },
  {
   "cell_type": "code",
   "execution_count": null,
   "id": "30ef23ec-9914-4feb-8cfd-8a2689ee3711",
   "metadata": {},
   "outputs": [],
   "source": [
    "# estimate normals manually\n",
    "\n",
    "pcd.estimate_normals(\n",
    "    search_param=o3d.geometry.KDTreeSearchParamKNN(knn=30),\n",
    "    fast_normal_computation=True\n",
    ")\n",
    "pcd.normalize_normals()\n",
    "pcd.orient_normals_consistent_tangent_plane(k=30)\n",
    "n = np.asarray(pcd.normals)"
   ]
  },
  {
   "cell_type": "code",
   "execution_count": null,
   "id": "33709458-84f6-4dd9-a0f5-bc84d5859469",
   "metadata": {},
   "outputs": [],
   "source": [
    "# downsampling\n",
    "\n",
    "pcd_ds = pcd.voxel_down_sample(voxel_size=0.05)\n",
    "xyz_ds = np.asarray(pcd_ds.points)\n",
    "n_ds = np.asarray(pcd_ds.normals)"
   ]
  },
  {
   "cell_type": "code",
   "execution_count": null,
   "id": "ff4e7e3e-0613-4592-82e0-cdfa41d334bb",
   "metadata": {},
   "outputs": [],
   "source": [
    "with set_defense_context():\n",
    "    fig = plt.figure(figsize=(5, 5))\n",
    "    ax = plt.axes(projection ='3d')\n",
    "    ax.scatter(*xyz_ds.T, c='k', alpha=0.1, s=0.1)\n",
    "    ax.quiver(*xyz_ds.T, *n_ds.T, color='k',\n",
    "              length=0.5, lw=0.5, alpha=0.5)\n",
    "    ax.view_init(20, 150)\n",
    "    ax.set_box_aspect([1, 1, 1])\n",
    "    ax = set_axes_equal(ax)\n",
    "    ax.set_axis_off()\n",
    "    fig.tight_layout()\n",
    "    plt.show()\n",
    "    fname = '03-anatomical-ear-model-quiver.png'\n",
    "    # fig.savefig(os.path.join('figures', fname), dpi=300)"
   ]
  },
  {
   "cell_type": "code",
   "execution_count": null,
   "id": "7bf5aa3e-d576-4071-ba33-aa843b289c3e",
   "metadata": {},
   "outputs": [],
   "source": [
    "# convert arrows to rgb cube\n",
    "\n",
    "c = normals_to_rgb(n)\n",
    "\n",
    "with set_defense_context():\n",
    "    fig = plt.figure(figsize=(5, 5))\n",
    "    ax = plt.axes(projection ='3d')\n",
    "    s = ax.scatter(*xyz.T, color=c, s=0.1)\n",
    "    ax = add_coordinate_frame(ax)\n",
    "    ax.view_init(20, 155)\n",
    "    ax.set_box_aspect([1, 1, 1])\n",
    "    ax = set_axes_equal(ax)\n",
    "    ax.set_axis_off()\n",
    "    fig.tight_layout()\n",
    "    plt.show()\n",
    "    fname = '03-anatomical-ear-model-rgb.png'\n",
    "    # fig.savefig(os.path.join('figures', fname), dpi=300)"
   ]
  },
  {
   "cell_type": "code",
   "execution_count": null,
   "id": "970ffbf5-45e4-4455-8fb9-e3b49664fbec",
   "metadata": {},
   "outputs": [],
   "source": [
    "# rgb cube\n",
    "\n",
    "pts = np.array(list(itertools.product([0, 1], repeat=3)))\n",
    "cs = ['black', 'blue', 'green', 'cyan', 'red', 'magenta', 'yellow', 'white']\n",
    "pairs = pd.DataFrame(data=pts, columns=['x', 'y', 'z'])\n",
    "pairs['cs'] = cs\n",
    "\n",
    "with set_defense_context():\n",
    "    fig = plt.figure(figsize=(2, 2))\n",
    "    ax = plt.axes(projection ='3d')\n",
    "    ax = draw_unit_cube(ax)\n",
    "    ax.scatter(*pts.T, c=cs, edgecolor='k', depthshade=False, s=500)\n",
    "    ax.view_init(20, 155)\n",
    "    ax.set_box_aspect([1, 1, 1])\n",
    "    ax = set_axes_equal(ax)\n",
    "    ax.set_axis_off()\n",
    "    fig.tight_layout()\n",
    "    plt.show()\n",
    "    fname = '03-rgb-cube.png'\n",
    "    # fig.savefig(os.path.join('figures', fname), dpi=300)"
   ]
  },
  {
   "cell_type": "code",
   "execution_count": null,
   "id": "75caabe2-3549-4ec9-bd63-ff0b4ef27144",
   "metadata": {},
   "outputs": [],
   "source": []
  }
 ],
 "metadata": {
  "kernelspec": {
   "display_name": "Python 3 (ipykernel)",
   "language": "python",
   "name": "python3"
  },
  "language_info": {
   "codemirror_mode": {
    "name": "ipython",
    "version": 3
   },
   "file_extension": ".py",
   "mimetype": "text/x-python",
   "name": "python",
   "nbconvert_exporter": "python",
   "pygments_lexer": "ipython3",
   "version": "3.9.16"
  }
 },
 "nbformat": 4,
 "nbformat_minor": 5
}
