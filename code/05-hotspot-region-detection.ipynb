{
 "cells": [
  {
   "cell_type": "code",
   "execution_count": null,
   "id": "6d4633e5-dc13-4316-94a9-0760ce3e5d00",
   "metadata": {},
   "outputs": [],
   "source": [
    "import matplotlib.pyplot as plt\n",
    "import numpy as np\n",
    "import pandas as pd\n",
    "from scipy import interpolate\n",
    "from scipy import spatial\n",
    "\n",
    "from utils import remove_hidden_points, edblquad\n",
    "from plotting import set_axes_equal, set_defense_context"
   ]
  },
  {
   "cell_type": "code",
   "execution_count": null,
   "id": "da3d0176-73e1-40db-bbab-16a4700d3c2e",
   "metadata": {},
   "outputs": [],
   "source": [
    "%config InlineBackend.figure_format = 'retina'"
   ]
  },
  {
   "cell_type": "code",
   "execution_count": null,
   "id": "622889b3-34f1-43d9-8229-9e004052617e",
   "metadata": {},
   "outputs": [],
   "source": [
    "def sphere(r, samples=1000):\n",
    "    # https://stackoverflow.com/a/44164075/15005103\n",
    "    i = np.arange(0, samples, dtype=float) + 0.5\n",
    "    phi = np.arccos(1 - 2 * i / samples)\n",
    "    theta = np.pi * (1 + np.sqrt(5)) * i\n",
    "    x = r * np.cos(theta) * np.sin(phi)\n",
    "    y = r * np.sin(theta) * np.sin(phi)\n",
    "    z = r * np.cos(phi)\n",
    "    return np.c_[x, y, z]"
   ]
  },
  {
   "cell_type": "code",
   "execution_count": null,
   "id": "9fda55dc-c537-4b21-8e15-754cdbbee5ec",
   "metadata": {},
   "outputs": [],
   "source": [
    "# generate coordinates of a sphere\n",
    "\n",
    "r = 5  # cm\n",
    "samples = 10000\n",
    "xyz = sphere(r, samples)"
   ]
  },
  {
   "cell_type": "code",
   "execution_count": null,
   "id": "6528b3b8-d56f-405d-9d39-ee5fbd1604b5",
   "metadata": {},
   "outputs": [],
   "source": [
    "# create 2 synthetic absorbed power density patterns\n",
    "\n",
    "mask = np.where(xyz[:, 0] > 0)[0]  # the wave propagates in the x-direction\n",
    "y = xyz[mask, 1]\n",
    "z = xyz[mask, 2]\n",
    "\n",
    "center_1 = [0, 0]\n",
    "radius_1 = 0.5\n",
    "region_1 = np.sqrt(((y - center_1[0]) / 1.5) ** 2 + (z - center_1[1]) ** 2)\n",
    "apd_1 = 15.1 * np.exp(-(region_1 / radius_1) ** 2)\n",
    "\n",
    "center_2 = [2.5, -1]\n",
    "radius_2 = 1.5\n",
    "region_2 = np.sqrt((y - center_2[0]) ** 2 + (z - center_2[1]) ** 2)\n",
    "apd_2 = 10 * np.exp(-(region_2 / radius_2) ** 2)\n",
    "\n",
    "apd = np.zeros((xyz.shape[0], ))\n",
    "apd[mask] = apd_1 + apd_2"
   ]
  },
  {
   "cell_type": "markdown",
   "id": "76dde371-ce58-4c00-b159-5e0629d69700",
   "metadata": {},
   "source": [
    "# Incident wave direction is known"
   ]
  },
  {
   "cell_type": "code",
   "execution_count": null,
   "id": "78685dab-9044-467c-9b6c-d77b46a64a32",
   "metadata": {},
   "outputs": [],
   "source": [
    "with set_defense_context():\n",
    "    fig = plt.figure(figsize=(5, 5))\n",
    "    ax = plt.axes(projection ='3d')\n",
    "    s = ax.scatter(*xyz.T, s=1, c=apd)\n",
    "    fig.colorbar(s, ax=ax, pad=0.075, shrink=0.5,\n",
    "                 label='power density [W/m$^2$]')\n",
    "    ax.quiver(9, 0, 0, -2.5, 0, 0, lw=1, color='w')\n",
    "    ax.text(9, 0, 0.5, s='$\\\\vec k$', color='w', zdir='x')\n",
    "    ax.set(xlabel='$x$ [cm]', ylabel='$y$ [cm]', zlabel='$z$ [cm]')\n",
    "    ax.xaxis.set_pane_color((1.0, 1.0, 1.0, 1.0))\n",
    "    ax.yaxis.set_pane_color((1.0, 1.0, 1.0, 1.0))\n",
    "    ax.zaxis.set_pane_color((1.0, 1.0, 1.0, 1.0))\n",
    "    ax.set_box_aspect([1, 1, 1])\n",
    "    ax = set_axes_equal(ax)\n",
    "    ax.view_init(10, 30)\n",
    "    fig.tight_layout()\n",
    "    plt.show()"
   ]
  },
  {
   "cell_type": "code",
   "execution_count": null,
   "id": "59adb455-7452-40e6-8b5a-5c6035d11ae7",
   "metadata": {},
   "outputs": [],
   "source": [
    "# extract visible points from the assumed direction of incidence\n",
    "\n",
    "center = np.mean(xyz, axis=0)\n",
    "diameter = np.linalg.norm(xyz.max(axis=0) - xyz.min(axis=0))\n",
    "pov = center.copy()\n",
    "pov[0] += diameter\n",
    "idx_visible = remove_hidden_points(xyz, pov, np.pi)\n",
    "xyz_visible = xyz[idx_visible]\n",
    "apd_visible = apd[idx_visible]"
   ]
  },
  {
   "cell_type": "code",
   "execution_count": null,
   "id": "15e80956-a8fe-492d-9594-8b561a86b392",
   "metadata": {},
   "outputs": [],
   "source": [
    "with set_defense_context():\n",
    "    fig = plt.figure(figsize=(5, 5))\n",
    "    ax = plt.axes(projection ='3d')\n",
    "    s = ax.scatter(*xyz_visible.T, c=apd_visible, s=1)\n",
    "    fig.colorbar(s, ax=ax, pad=0, shrink=0.5,\n",
    "                 label='power density [W/m$^2$]')\n",
    "    ax.set(xlabel='', ylabel='$y$ [cm]', zlabel='$z$ [cm]',\n",
    "           xticks=[], xticklabels=[],\n",
    "           yticks=[-r, 0, r],\n",
    "           zticks=[-r, 0, r])\n",
    "    ax.xaxis.set_pane_color((1.0, 1.0, 1.0, 1.0))\n",
    "    ax.yaxis.set_pane_color((1.0, 1.0, 1.0, 1.0))\n",
    "    ax.zaxis.set_pane_color((1.0, 1.0, 1.0, 1.0))\n",
    "    ax.set_box_aspect([1, 1, 1])\n",
    "    ax = set_axes_equal(ax)\n",
    "    ax.view_init(0, 0)\n",
    "    fig.tight_layout()\n",
    "    plt.show()"
   ]
  },
  {
   "cell_type": "code",
   "execution_count": null,
   "id": "622414c9-281b-4682-9b62-27a38944dd90",
   "metadata": {},
   "outputs": [],
   "source": [
    "with set_defense_context():\n",
    "    fig = plt.figure(figsize=(5, 5))\n",
    "    ax = plt.axes(projection ='3d')\n",
    "    s = ax.scatter(*xyz_visible.T, c=apd_visible, s=1)\n",
    "    fig.colorbar(s, ax=ax, pad=0, shrink=0.5,\n",
    "                 label='power density [W/m$^2$]')\n",
    "    ax.quiver(9, 0, 0, -2.5, 0, 0, lw=1, color='k')\n",
    "    ax.text(8, 0, 0.5, s='$\\\\vec k$', color='k', zdir='x')\n",
    "    ax.set_box_aspect([1, 1, 1])\n",
    "    ax = set_axes_equal(ax)\n",
    "    ax.set_axis_off()\n",
    "    ax.view_init(0, 90)\n",
    "    fig.tight_layout()\n",
    "    plt.show()"
   ]
  },
  {
   "cell_type": "code",
   "execution_count": null,
   "id": "ad05325b-d4b4-4039-8845-5f3f6c58c395",
   "metadata": {},
   "outputs": [],
   "source": [
    "# extract 2x2 cm2 areas in a plane perpendicular to k vector (x-direction)\n",
    "\n",
    "area = 4  # cm2\n",
    "a = np.sqrt(area)\n",
    "res = {'p': [], 'nbhd': [], 'area_conf': [], 'apd': [], 'sapd': []}\n",
    "for p in xyz_visible:\n",
    "    _bbox = [p[1]-a/2, p[1]+a/2, p[2]-a/2, p[2]+a/2]\n",
    "    _idx_bbox = np.where((xyz_visible[:, 1] >= _bbox[0])\n",
    "                         & (xyz_visible[:, 1] <= _bbox[1])\n",
    "                         & (xyz_visible[:, 2] >= _bbox[2])\n",
    "                         & (xyz_visible[:, 2] <= _bbox[3]))[0]\n",
    "    _nbhd = xyz_visible[_idx_bbox]\n",
    "    _apd = apd_visible[_idx_bbox]\n",
    "    _hull = spatial.ConvexHull(_nbhd[:, 1:])\n",
    "    _hull_area = _hull.volume  # for 2-D `volume` results with an area\n",
    "    rpd = np.abs(_hull_area - area) / area\n",
    "    if rpd > 0.1:\n",
    "        continue  # skip if the difference is too large\n",
    "    else:\n",
    "        fi = interpolate.SmoothBivariateSpline(*_nbhd[:, 1:].T,  # yz\n",
    "                                               _nbhd[:, 0],      # x\n",
    "                                               kx=5, ky=5)\n",
    "        _n = np.c_[fi(*_nbhd[:, 1:].T, dx=1, grid=False),   # dy\n",
    "                   fi(*_nbhd[:, 1:].T, dy=1, grid=False),   # dz\n",
    "                   np.ones((_nbhd.shape[0]))]\n",
    "        _n_mag = np.linalg.norm(_n, axis=1)\n",
    "        _area_conf = edblquad(_nbhd[:, 1:], _n_mag)  # conformal area\n",
    "        _sapd = edblquad(_nbhd[:, 1:], _apd) / _area_conf  # surface integral\n",
    "        res['p'].append(p)\n",
    "        res['nbhd'].append(_nbhd)\n",
    "        res['area_conf'].append(_area_conf)\n",
    "        res['apd'].append(_apd)\n",
    "        res['sapd'].append(_sapd)\n",
    "res_df = pd.DataFrame(res)"
   ]
  },
  {
   "cell_type": "code",
   "execution_count": null,
   "id": "5af93316-de9f-4a1a-8077-8695c37e0901",
   "metadata": {},
   "outputs": [],
   "source": [
    "# spatial maximum\n",
    "\n",
    "_, ctrl_nbhd, ctrl_area_conf, ctrl_apd, ctrl_sapd = res_df[\n",
    "    res_df['sapd'] == res_df['sapd'].max()\n",
    "].to_numpy()[0].T"
   ]
  },
  {
   "cell_type": "code",
   "execution_count": null,
   "id": "62f8befb-43c3-47bd-a7d9-64b5f2124bfd",
   "metadata": {},
   "outputs": [],
   "source": [
    "with set_defense_context():\n",
    "    fig = plt.figure(figsize=(5, 5))\n",
    "    ax = plt.axes(projection ='3d')\n",
    "    s = ax.scatter(*ctrl_nbhd.T, c=ctrl_apd)\n",
    "    fig.colorbar(s, ax=ax, pad=0, shrink=0.5,\n",
    "                 label='power density [W/m$^2$]')\n",
    "    ax.set(xlabel='', ylabel='$y$ [cm]', zlabel='$z$ [cm]',\n",
    "           title=(r'$s\\text{PD}_{max, \\; 4 \\; \\text{cm}^2}$ = '\n",
    "                  f'{ctrl_sapd:.2f} W/m$^2$'),\n",
    "           xticks=[], xticklabels=[])\n",
    "    ax.xaxis.set_pane_color((1.0, 1.0, 1.0, 1.0))\n",
    "    ax.yaxis.set_pane_color((1.0, 1.0, 1.0, 1.0))\n",
    "    ax.zaxis.set_pane_color((1.0, 1.0, 1.0, 1.0))\n",
    "    ax.set_box_aspect([1, 1, 1])\n",
    "    ax = set_axes_equal(ax)\n",
    "    ax.view_init(0, 0)\n",
    "    plt.show()"
   ]
  },
  {
   "cell_type": "code",
   "execution_count": null,
   "id": "2b2036ce-8fba-4c68-92a3-eb941a80d0ee",
   "metadata": {},
   "outputs": [],
   "source": [
    "# central point\n",
    "\n",
    "ctrl_idx = np.where(np.isclose(res['p'], np.array([5, 0, 0])))[0]\n",
    "_, ctrl_nbhd, ctrl_area_conf, ctrl_apd, ctrl_sapd = res_df.loc[\n",
    "    ctrl_idx].to_numpy()[0].T"
   ]
  },
  {
   "cell_type": "code",
   "execution_count": null,
   "id": "5d60745e-8750-479b-9eb2-073e0001f22f",
   "metadata": {},
   "outputs": [],
   "source": [
    "with set_defense_context():\n",
    "    fig = plt.figure(figsize=(5, 5))\n",
    "    ax = plt.axes(projection ='3d')\n",
    "    s = ax.scatter(*ctrl_nbhd.T, c=ctrl_pd)\n",
    "    fig.colorbar(s, ax=ax, pad=0, shrink=0.5,\n",
    "                 label='power density [W/m$^2$]')\n",
    "    ax.set(xlabel='', ylabel='$y$ [cm]', zlabel='$z$ [cm]',\n",
    "           title=(r'$s\\text{PD}_{max, \\; 4 \\; \\text{cm}^2}$ = '\n",
    "                  f'{ctrl_sapd:.2f} W/m$^2$'),\n",
    "           xticks=[], xticklabels=[])\n",
    "    ax.xaxis.set_pane_color((1.0, 1.0, 1.0, 1.0))\n",
    "    ax.yaxis.set_pane_color((1.0, 1.0, 1.0, 1.0))\n",
    "    ax.zaxis.set_pane_color((1.0, 1.0, 1.0, 1.0))\n",
    "    ax.set_box_aspect([1, 1, 1])\n",
    "    ax = set_axes_equal(ax)\n",
    "    ax.view_init(0, 0)\n",
    "    plt.show()"
   ]
  },
  {
   "cell_type": "markdown",
   "id": "06010947-2684-488c-ae65-8c83a14ba139",
   "metadata": {},
   "source": [
    "# Incident wave direction is unknown - wip"
   ]
  },
  {
   "cell_type": "code",
   "execution_count": null,
   "id": "a3d411c7-0822-42af-8ade-d269fccdb83f",
   "metadata": {},
   "outputs": [],
   "source": [
    "area = 4  # square-shaped surface in cm2\n",
    "r = np.sqrt(A / np.pi)\n",
    "\n",
    "query_point = xyz[np.where(color == color.max())[0][0]]\n",
    "bbox = [query_point[1]-a/2, query_point[1]+a/2,\n",
    "        query_point[2]-a/2, query_point[2]+a/2]\n",
    "\n",
    "tree = spatial.KDTree(xyz)\n",
    "nbh_idx = tree.query_ball_point([query_point], r)[0]\n",
    "query_nbh = xyz[nbh_idx]"
   ]
  },
  {
   "cell_type": "code",
   "execution_count": null,
   "id": "7e3b85a2-32c6-4026-a382-63ad6860adfa",
   "metadata": {},
   "outputs": [],
   "source": [
    "with set_defense_context():\n",
    "    fig = plt.figure(figsize=(6, 6))\n",
    "    ax = plt.axes(projection ='3d')\n",
    "    s = ax.scatter(*query_nbh.T, c=color[nbh_idx])\n",
    "    ax.set(xlabel='x', ylabel='y', zlabel='z')\n",
    "    ax.view_init(0, 0)\n",
    "    ax.set_box_aspect([1, 1, 1])\n",
    "    ax = set_axes_equal(ax)\n",
    "    fig.colorbar(s, ax=ax, pad=0.1, shrink=0.5, label='PD')\n",
    "    plt.show()"
   ]
  },
  {
   "cell_type": "code",
   "execution_count": null,
   "id": "d9ca79d0-668e-4215-822b-e1f81709625b",
   "metadata": {},
   "outputs": [],
   "source": []
  }
 ],
 "metadata": {
  "kernelspec": {
   "display_name": "Python 3 (ipykernel)",
   "language": "python",
   "name": "python3"
  },
  "language_info": {
   "codemirror_mode": {
    "name": "ipython",
    "version": 3
   },
   "file_extension": ".py",
   "mimetype": "text/x-python",
   "name": "python",
   "nbconvert_exporter": "python",
   "pygments_lexer": "ipython3",
   "version": "3.9.16"
  }
 },
 "nbformat": 4,
 "nbformat_minor": 5
}
