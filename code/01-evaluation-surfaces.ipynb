{
 "cells": [
  {
   "cell_type": "code",
   "execution_count": null,
   "id": "34c578ae-583d-45ad-84a1-b7f8b15e2cbb",
   "metadata": {},
   "outputs": [],
   "source": [
    "import os\n",
    "\n",
    "from mpl_toolkits.mplot3d.art3d import pathpatch_2d_to_3d\n",
    "from matplotlib.patches import Rectangle\n",
    "import matplotlib.pyplot as plt\n",
    "import numpy as np\n",
    "\n",
    "from src.coordinates import sph_to_cart, cyl_to_cart\n",
    "from src.normals import sph_normals, cyl_normals\n",
    "from src.plotting import set_defense_context, set_axes_equal"
   ]
  },
  {
   "cell_type": "code",
   "execution_count": null,
   "id": "b445c8c1-85c8-4bc4-88fe-25adda3ac3c9",
   "metadata": {},
   "outputs": [],
   "source": [
    "%config InlineBackend.figure_format = 'retina'"
   ]
  },
  {
   "cell_type": "code",
   "execution_count": null,
   "id": "8f48fe4f-c5a2-4051-9d5c-0643487d42d3",
   "metadata": {},
   "outputs": [],
   "source": [
    "# constants\n",
    "\n",
    "elev, azim = 20, -60  # 3-D view\n",
    "N = 7\n",
    "edge_length = 2  # in cm\n",
    "A = edge_length ** 2  # in cm2\n",
    "target_area_origin = (-edge_length/2, -edge_length/2)\n",
    "r = 2  # in cm\n",
    "alpha = 2 * np.arcsin(edge_length/2/r)  # compute angle from secant\n",
    "rectangle_kwargs = dict(width=edge_length, height=edge_length,\n",
    "                        ec='k', fc='gray', lw=2, alpha=0.25)\n",
    "scatter_kwargs = dict(s=10, c='k', depthshade=True)\n",
    "quiver_kwargs = dict(normalize=True, lw=0.5, length=0.75, color='k')"
   ]
  },
  {
   "cell_type": "code",
   "execution_count": null,
   "id": "2d98d7b3-bf29-4dad-9218-4dcea2b4819b",
   "metadata": {},
   "outputs": [],
   "source": [
    "def add_coordinate_frame(ax):\n",
    "    \"\"\"Set RGB coordinate frame to axes.\n",
    "    \n",
    "    Parameters\n",
    "    ----------\n",
    "    ax : matplotlib.axes._subplots.Axes3DSubplot\n",
    "        3-D axes subplot.\n",
    "    \n",
    "    Returns\n",
    "    -------\n",
    "    matplotlib.axes._subplots.Axes3DSubplot\n",
    "        Axes with coordinate frame.\n",
    "    \"\"\"\n",
    "    ax.quiver(-1.5, -1, -1.5, 0.75, 0, 0, color='r')\n",
    "    ax.text(-0.7, -1, -1.5, s='$x$', color='r', fontweight='bold')\n",
    "    ax.quiver(-1.5, -1, -1.5, 0, 0.75, 0, color='g')\n",
    "    ax.text(-1.5, -0.2, -1.5, s='$y$', color='g', fontweight='bold')\n",
    "    ax.quiver(-1.5, -1, -1.5, 0, 0, 0.75, color='b')\n",
    "    ax.text(-1.5, -1, -0.7, s='$z$', color='b', fontweight='bold')\n",
    "    ax.scatter(-1.5, -1, -1.5, s=10, color='k', depthshade=False)\n",
    "    return ax"
   ]
  },
  {
   "cell_type": "markdown",
   "id": "054def97-e7fa-4adb-9a00-d2fccdaeff5e",
   "metadata": {},
   "source": [
    "# Planar evaluation surface"
   ]
  },
  {
   "cell_type": "code",
   "execution_count": null,
   "id": "e91fc890-add6-4b9a-a378-4475d292a780",
   "metadata": {},
   "outputs": [],
   "source": [
    "# point cloud\n",
    "\n",
    "x = np.linspace(-edge_length/2, edge_length/2, N)\n",
    "y = 0.0\n",
    "z = np.linspace(-edge_length/2, edge_length/2, N)\n",
    "Xt, Zt = np.meshgrid(x, z)\n",
    "xt_pln = Xt.ravel()\n",
    "yt_pln = np.zeros_like(xt_pln)\n",
    "zt_pln = Zt.ravel()"
   ]
  },
  {
   "cell_type": "code",
   "execution_count": null,
   "id": "a2db4161-7d75-422f-a7b5-7ef76dba71d2",
   "metadata": {},
   "outputs": [],
   "source": [
    "# normals\n",
    "\n",
    "nx_pln = 0\n",
    "ny_pln = -1\n",
    "nz_pln = 0"
   ]
  },
  {
   "cell_type": "code",
   "execution_count": null,
   "id": "b6730063-f697-4292-aa4e-8554ccf471f7",
   "metadata": {},
   "outputs": [],
   "source": [
    "with set_defense_context():\n",
    "    fig = plt.figure(figsize=(3, 3), constrained_layout=True)\n",
    "    ax = plt.axes(projection ='3d')\n",
    "    plane = Rectangle(target_area_origin, **rectangle_kwargs)\n",
    "    ax.add_patch(plane)\n",
    "    pathpatch_2d_to_3d(plane, z=y, zdir='y')\n",
    "    ax.scatter(xt_pln, yt_pln, zt_pln, **scatter_kwargs)\n",
    "    ax.quiver(xt_pln, yt_pln, zt_pln,\n",
    "              nx_pln, ny_pln, nz_pln,\n",
    "              **quiver_kwargs)\n",
    "    ax = add_coordinate_frame(ax)\n",
    "    ax.view_init(elev, azim)\n",
    "    ax.set_box_aspect([1, 1, 1])\n",
    "    ax = set_axes_equal(ax)\n",
    "    ax.set_axis_off()\n",
    "    plt.show()\n",
    "    fname = 'planar.png'\n",
    "    fig.savefig(os.path.join('figures', 'evaluation-surface', fname),\n",
    "                dpi=500, bbox_inches='tight')"
   ]
  },
  {
   "cell_type": "markdown",
   "id": "5ba772a7-639e-48d0-a5ba-9cb6fabe0747",
   "metadata": {},
   "source": [
    "# Non-planar evaluation surface"
   ]
  },
  {
   "cell_type": "markdown",
   "id": "04019c9a-b695-4d27-855f-77a8d36e5e1f",
   "metadata": {},
   "source": [
    "## Spherical evaluation surface"
   ]
  },
  {
   "cell_type": "code",
   "execution_count": null,
   "id": "b13eff3c-d287-4484-9886-a77c73bf38a5",
   "metadata": {},
   "outputs": [],
   "source": [
    "# point cloud\n",
    "\n",
    "theta = np.linspace(np.pi/2 - alpha/2, np.pi/2 + alpha/2, N)\n",
    "phi = np.linspace(np.pi-alpha/2, np.pi+alpha/2, N)\n",
    "Theta, Phi = np.meshgrid(theta, phi)\n",
    "yt_sph, xt_sph, zt_sph = sph_to_cart(r, Theta.ravel(), Phi.ravel())\n",
    "yt_sph -= yt_sph.min()"
   ]
  },
  {
   "cell_type": "code",
   "execution_count": null,
   "id": "929c5621-4097-4ac9-ac96-137b98703212",
   "metadata": {},
   "outputs": [],
   "source": [
    "# compute normals\n",
    "\n",
    "ny_sph, nx_sph, nz_sph = sph_normals(r, Theta.ravel(), Phi.ravel())"
   ]
  },
  {
   "cell_type": "code",
   "execution_count": null,
   "id": "25ee1a81-b417-4540-b7a0-6411b84ae259",
   "metadata": {},
   "outputs": [],
   "source": [
    "with set_defense_context():\n",
    "    fig = plt.figure(figsize=(3, 3), constrained_layout=True)\n",
    "    ax = plt.axes(projection ='3d')\n",
    "    plane = Rectangle(target_area_origin, **rectangle_kwargs)\n",
    "    ax.add_patch(plane)\n",
    "    pathpatch_2d_to_3d(plane, z=y, zdir='y')\n",
    "    ax.scatter(xt_sph, yt_sph, zt_sph,\n",
    "               **scatter_kwargs)\n",
    "    ax.quiver(xt_sph, yt_sph, zt_sph,\n",
    "              nx_sph, ny_sph, nz_sph,\n",
    "              **quiver_kwargs)\n",
    "    ax = add_coordinate_frame(ax)\n",
    "    ax.view_init(elev, azim)\n",
    "    ax.set_box_aspect([1, 1, 1])\n",
    "    ax = set_axes_equal(ax)\n",
    "    ax.set_axis_off()\n",
    "    plt.show()\n",
    "    fname = 'spherical.png'\n",
    "    fig.savefig(os.path.join('figures', 'evaluation-surface', fname),\n",
    "                dpi=500, bbox_inches='tight')"
   ]
  },
  {
   "cell_type": "markdown",
   "id": "acbbb9de-78b8-4802-ae67-1e021df65edf",
   "metadata": {},
   "source": [
    "## Cylindrical evaluation surface"
   ]
  },
  {
   "cell_type": "code",
   "execution_count": null,
   "id": "fe650c00-f98d-479c-9b3a-ffe7fbf53f1b",
   "metadata": {},
   "outputs": [],
   "source": [
    "# point cloud\n",
    "\n",
    "theta = np.linspace(np.pi/2-alpha/2, np.pi/2+alpha/2, N)\n",
    "Theta, Zt = np.meshgrid(-theta, z)\n",
    "xt_cyl, yt_cyl, zt_cyl = cyl_to_cart(r, Theta.ravel(), Zt.ravel())\n",
    "yt_cyl -= yt_cyl.min()"
   ]
  },
  {
   "cell_type": "code",
   "execution_count": null,
   "id": "160ac391-39d1-4a64-b8fa-53756d523a2e",
   "metadata": {},
   "outputs": [],
   "source": [
    "# compute normals\n",
    "\n",
    "nx_cyl, ny_cyl, nz_cyl = cyl_normals(r, Theta.ravel(), zt_cyl)"
   ]
  },
  {
   "cell_type": "code",
   "execution_count": null,
   "id": "150b097e-9314-455a-8fac-6056177cfe7b",
   "metadata": {},
   "outputs": [],
   "source": [
    "with set_defense_context():\n",
    "    fig = plt.figure(figsize=(3, 3), constrained_layout=True)\n",
    "    ax = plt.axes(projection ='3d')\n",
    "    plane = Rectangle(target_area_origin, **rectangle_kwargs)\n",
    "    ax.add_patch(plane)\n",
    "    pathpatch_2d_to_3d(plane, z=y, zdir='y')\n",
    "    ax.scatter(xt_cyl, yt_cyl, zt_cyl,\n",
    "               **scatter_kwargs)\n",
    "    ax.quiver(xt_cyl, yt_cyl, zt_cyl,\n",
    "              nx_cyl, ny_cyl, nz_cyl,\n",
    "              **quiver_kwargs)\n",
    "    ax = add_coordinate_frame(ax)\n",
    "    ax.view_init(elev, azim)\n",
    "    ax.set_box_aspect([1, 1, 1])\n",
    "    ax = set_axes_equal(ax)\n",
    "    ax.set_axis_off()\n",
    "    plt.show()\n",
    "    fname = 'cylindrical.png'\n",
    "    fig.savefig(os.path.join('figures', 'evaluation-surface', fname),\n",
    "                dpi=500, bbox_inches='tight')"
   ]
  },
  {
   "cell_type": "code",
   "execution_count": null,
   "id": "b0cde6c9-8ed3-484d-8ef0-795b502d811b",
   "metadata": {},
   "outputs": [],
   "source": []
  }
 ],
 "metadata": {
  "kernelspec": {
   "display_name": "Python 3 (ipykernel)",
   "language": "python",
   "name": "python3"
  },
  "language_info": {
   "codemirror_mode": {
    "name": "ipython",
    "version": 3
   },
   "file_extension": ".py",
   "mimetype": "text/x-python",
   "name": "python",
   "nbconvert_exporter": "python",
   "pygments_lexer": "ipython3",
   "version": "3.9.16"
  }
 },
 "nbformat": 4,
 "nbformat_minor": 5
}
