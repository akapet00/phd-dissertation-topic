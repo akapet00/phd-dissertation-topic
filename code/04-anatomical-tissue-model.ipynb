{
 "cells": [
  {
   "cell_type": "code",
   "execution_count": null,
   "id": "69418c02-a61e-4c79-916e-0fcb64c1bf0c",
   "metadata": {},
   "outputs": [],
   "source": [
    "import itertools\n",
    "import os\n",
    "\n",
    "import matplotlib.pyplot as plt\n",
    "from mpl_toolkits.mplot3d.art3d import Poly3DCollection\n",
    "import numpy as np\n",
    "import open3d as o3d\n",
    "import pandas as pd\n",
    "from scipy import spatial\n",
    "from scipy import interpolate\n",
    "from sklearn.decomposition import PCA\n",
    "from sklearn import preprocessing\n",
    "\n",
    "from utils import normals_to_rgb\n",
    "from plotting import set_axes_equal, set_defense_context, draw_unit_cube"
   ]
  },
  {
   "cell_type": "code",
   "execution_count": null,
   "id": "a33a5e8a-3f5d-4ef7-ad5a-062e7a768ec6",
   "metadata": {},
   "outputs": [],
   "source": [
    "%config InlineBackend.figure_format = 'retina'"
   ]
  },
  {
   "cell_type": "code",
   "execution_count": null,
   "id": "ab56f9dd-37ab-4710-b249-d7a7682ebaa8",
   "metadata": {},
   "outputs": [],
   "source": [
    "def add_coordinate_frame(ax):\n",
    "    \"\"\"Set RGB coordinate frame to axes.\n",
    "    \n",
    "    Parameters\n",
    "    ----------\n",
    "    ax : matplotlib.axes._subplots.Axes3DSubplot\n",
    "        3-D axes subplot.\n",
    "    \n",
    "    Returns\n",
    "    -------\n",
    "    matplotlib.axes._subplots.Axes3DSubplot\n",
    "        Axes with coordinate frame.\n",
    "    \"\"\"\n",
    "    ax.quiver(-1.5, -1, -1.5, 0.75, 0, 0, color='r')\n",
    "    ax.text(0, -1, -1.5, s='$x$', color='r', fontweight='bold')\n",
    "    ax.quiver(-1.5, -1, -1.5, 0, 0.75, 0, color='g')\n",
    "    ax.text(-1.5, +0.25, -1.5, s='$y$', color='g', fontweight='bold')\n",
    "    ax.quiver(-1.5, -1, -1.5, 0, 0, 0.75, color='b')\n",
    "    ax.text(-1.5, -1, -0.5, s='$z$', color='b', fontweight='bold')\n",
    "    ax.scatter(-1.5, -1, -1.5, color='k', depthshade=False)\n",
    "    return ax"
   ]
  },
  {
   "cell_type": "markdown",
   "id": "a6ea2048-3dc9-4a70-9f63-ad8be7db46d4",
   "metadata": {},
   "source": [
    "# PCA via Open3D - unit normal"
   ]
  },
  {
   "cell_type": "code",
   "execution_count": null,
   "id": "67492ae7-34d1-4078-ba14-328443e4da2e",
   "metadata": {},
   "outputs": [],
   "source": [
    "# load ear coordinates\n",
    "\n",
    "xyz = pd.read_csv(os.path.join('data', 'ear.xyz')).values * 100  # in cm\n",
    "pcd = o3d.geometry.PointCloud()\n",
    "pcd.points = o3d.utility.Vector3dVector(xyz)"
   ]
  },
  {
   "cell_type": "code",
   "execution_count": null,
   "id": "30ef23ec-9914-4feb-8cfd-8a2689ee3711",
   "metadata": {},
   "outputs": [],
   "source": [
    "# estimate normals by using open3d\n",
    "\n",
    "pcd.estimate_normals(\n",
    "    search_param=o3d.geometry.KDTreeSearchParamKNN(knn=111),\n",
    "    fast_normal_computation=True\n",
    ")\n",
    "pcd.normalize_normals()\n",
    "pcd.orient_normals_consistent_tangent_plane(k=33)\n",
    "n_o3d = np.asarray(pcd.normals)"
   ]
  },
  {
   "cell_type": "code",
   "execution_count": null,
   "id": "33709458-84f6-4dd9-a0f5-bc84d5859469",
   "metadata": {},
   "outputs": [],
   "source": [
    "# downsampling\n",
    "\n",
    "pcd_ds = pcd.voxel_down_sample(voxel_size=0.05)\n",
    "xyz_ds = np.asarray(pcd_ds.points)\n",
    "n_o3d_ds = np.asarray(pcd_ds.normals)"
   ]
  },
  {
   "cell_type": "code",
   "execution_count": null,
   "id": "ff4e7e3e-0613-4592-82e0-cdfa41d334bb",
   "metadata": {},
   "outputs": [],
   "source": [
    "# visualize\n",
    "\n",
    "with set_defense_context():\n",
    "    fig = plt.figure(figsize=(5, 5))\n",
    "    ax = plt.axes(projection ='3d')\n",
    "    ax.scatter(*xyz_ds.T, c='k', alpha=0.1, s=0.1)\n",
    "    ax.quiver(*xyz_ds.T, *n_o3d_ds.T, color='k',\n",
    "              length=0.5, lw=0.5, alpha=0.5)\n",
    "    ax.view_init(20, 150)\n",
    "    ax.set_box_aspect([1, 1, 1])\n",
    "    ax = set_axes_equal(ax)\n",
    "    ax.set_axis_off()\n",
    "    fig.tight_layout()\n",
    "    plt.show()\n",
    "    fname = '04-anatomical-ear-model-quiver.png'\n",
    "    # fig.savefig(os.path.join('figures', fname), dpi=300)"
   ]
  },
  {
   "cell_type": "code",
   "execution_count": null,
   "id": "7bf5aa3e-d576-4071-ba33-aa843b289c3e",
   "metadata": {},
   "outputs": [],
   "source": [
    "# convert arrows to rgb cube\n",
    "\n",
    "c_o3d = normals_to_rgb(n_o3d)\n",
    "\n",
    "with set_defense_context():\n",
    "    fig = plt.figure(figsize=(5, 5))\n",
    "    ax = plt.axes(projection ='3d')\n",
    "    s = ax.scatter(*xyz.T, color=c_o3d, s=0.3)\n",
    "    ax = add_coordinate_frame(ax)\n",
    "    ax.view_init(20, 155)\n",
    "    ax.set_box_aspect([1, 1, 1])\n",
    "    ax = set_axes_equal(ax)\n",
    "    ax.set_axis_off()\n",
    "    fig.tight_layout()\n",
    "    plt.show()\n",
    "    fname = '04-anatomical-ear-model-rgb-pca.png'\n",
    "    # fig.savefig(os.path.join('figures', fname), dpi=300)"
   ]
  },
  {
   "cell_type": "markdown",
   "id": "16c66e2b-be16-4db4-9004-f4eb2cedabd6",
   "metadata": {},
   "source": [
    "# Spline - curvature normal"
   ]
  },
  {
   "cell_type": "code",
   "execution_count": null,
   "id": "249b8a45-7a0b-44e0-ac69-1f208be72e81",
   "metadata": {},
   "outputs": [],
   "source": [
    "# estimate normals manually\n",
    "\n",
    "n_spline = np.empty_like(xyz)\n",
    "tree = spatial.KDTree(xyz)\n",
    "for i, query_point in enumerate(xyz):\n",
    "    nbh_dist, nbh_idx = tree.query([query_point], k=111)\n",
    "    query_nbh = xyz[nbh_idx.flatten()]\n",
    "\n",
    "    X = query_nbh.copy()\n",
    "    X_norm = X - X.mean(axis=0)\n",
    "    U, S, VT = np.linalg.svd(X_norm.T)\n",
    "    X_trans = X_norm @ U\n",
    "\n",
    "    h = interpolate.SmoothBivariateSpline(*X_trans.T)\n",
    "\n",
    "    cn = np.array([-h(*X_trans[0, :2], dx=1).item(),\n",
    "                   -h(*X_trans[0, :2], dy=1).item(),\n",
    "                   1])\n",
    "    cn = cn.T @ U.T\n",
    "    un = np.divide(cn, np.linalg.norm(cn, 2))\n",
    "    n_spline[i, :] = un"
   ]
  },
  {
   "cell_type": "code",
   "execution_count": null,
   "id": "58880f2e-c235-419e-a014-4e185a79f8f8",
   "metadata": {},
   "outputs": [],
   "source": [
    "# load ear coordinates and orient normals\n",
    "\n",
    "pcd = o3d.geometry.PointCloud()\n",
    "pcd.points = o3d.utility.Vector3dVector(xyz)\n",
    "pcd.normals = o3d.utility.Vector3dVector(n_spline)\n",
    "pcd = pcd.normalize_normals()\n",
    "pcd.orient_normals_consistent_tangent_plane(k=111)\n",
    "n_spline = np.asarray(pcd.normals)"
   ]
  },
  {
   "cell_type": "code",
   "execution_count": null,
   "id": "44f1aeb6-bb56-499d-b2ba-4c4893dfe5ba",
   "metadata": {},
   "outputs": [],
   "source": [
    "# convert arrows to rgb cube\n",
    "\n",
    "c_spline = normals_to_rgb(n_spline)\n",
    "\n",
    "with set_defense_context():\n",
    "    fig = plt.figure(figsize=(5, 5))\n",
    "    ax = plt.axes(projection ='3d')\n",
    "    s = ax.scatter(*xyz.T, color=c_spline, s=0.3)\n",
    "    ax = add_coordinate_frame(ax)\n",
    "    ax.view_init(20, 155)\n",
    "    ax.set_box_aspect([1, 1, 1])\n",
    "    ax = set_axes_equal(ax)\n",
    "    ax.set_axis_off()\n",
    "    fig.tight_layout()\n",
    "    plt.show()\n",
    "    fname = '04-anatomical-ear-model-rgb-spline.png'\n",
    "    # fig.savefig(os.path.join('figures', fname), dpi=300)"
   ]
  },
  {
   "cell_type": "markdown",
   "id": "090d9ce9-9f0c-4d03-ba45-987a6ecb7fc9",
   "metadata": {},
   "source": [
    "# Error angle"
   ]
  },
  {
   "cell_type": "code",
   "execution_count": null,
   "id": "ee043c0c-e4e1-479f-9e96-ca918b09a41e",
   "metadata": {},
   "outputs": [],
   "source": [
    "# compute error\n",
    "\n",
    "theta = np.arccos(\n",
    "    np.round(  # to avoid numerical instabilities\n",
    "        np.abs(  # to neglect orientation\n",
    "            np.sum(n_o3d * n_spline, axis=1)  # scalar product\n",
    "        ), 6)) * 180 / np.pi\n",
    "theta_rms = np.sqrt(np.mean(theta) ** 2)\n",
    "theta_rms"
   ]
  },
  {
   "cell_type": "code",
   "execution_count": null,
   "id": "c95c3b45-af22-4c34-9b1c-43c15badcc57",
   "metadata": {},
   "outputs": [],
   "source": [
    "# histogram of errors\n",
    "\n",
    "with set_defense_context():\n",
    "    fig = plt.figure(figsize=(4, 3))\n",
    "    ax = plt.axes()\n",
    "    ax.hist(theta, bins=31, color='gray')\n",
    "    ax.set(xlabel='theta (deg)', ylabel='count',\n",
    "           title=f'rms = {theta_rms:.2f}°')\n",
    "    fig.tight_layout()\n",
    "    plt.show()"
   ]
  },
  {
   "cell_type": "code",
   "execution_count": null,
   "id": "19a1a76c-71cd-445e-9610-901e8360a931",
   "metadata": {},
   "outputs": [],
   "source": [
    "# convert arrows to rgb cube\n",
    "\n",
    "with set_defense_context():\n",
    "    fig = plt.figure(figsize=(5, 5))\n",
    "    ax = plt.axes(projection ='3d')\n",
    "    s = ax.scatter(*xyz.T, c=theta, s=0.3)\n",
    "    ax = add_coordinate_frame(ax)\n",
    "    ax.view_init(20, 155)\n",
    "    ax.set_box_aspect([1, 1, 1])\n",
    "    ax = set_axes_equal(ax)\n",
    "    ax.set_axis_off()\n",
    "    fig.colorbar(s, ax=ax, orientation='vertical', shrink=0.5, pad=-0.25,\n",
    "                 label=r'$\\theta$ (°)')\n",
    "    fig.tight_layout()\n",
    "    plt.show()\n",
    "    fname = '04-angle-error.png'\n",
    "    # fig.savefig(os.path.join('figures', fname), dpi=300)"
   ]
  },
  {
   "cell_type": "markdown",
   "id": "e887098e-f4ae-4226-bb45-b9dcd6480ad3",
   "metadata": {},
   "source": [
    "# RGB cube"
   ]
  },
  {
   "cell_type": "code",
   "execution_count": null,
   "id": "8fe8f4c5-d86b-4a1b-9141-96c1da0fe7c7",
   "metadata": {},
   "outputs": [],
   "source": [
    "# set up coloring for rgb cube\n",
    "\n",
    "pts = np.array(list(itertools.product([0, 1], repeat=3)))\n",
    "cs = ['black', 'blue', 'green', 'cyan', 'red', 'magenta', 'yellow', 'white']\n",
    "pairs = pd.DataFrame(data=pts, columns=['x', 'y', 'z'])\n",
    "pairs['cs'] = cs"
   ]
  },
  {
   "cell_type": "code",
   "execution_count": null,
   "id": "722245d9-bcbc-4810-809c-d0335a9e42ba",
   "metadata": {},
   "outputs": [],
   "source": [
    "# visualize\n",
    "\n",
    "with set_defense_context():\n",
    "    fig = plt.figure(figsize=(2, 2))\n",
    "    ax = plt.axes(projection ='3d')\n",
    "    ax = draw_unit_cube(ax)\n",
    "    ax.scatter(*pts.T, c=cs, edgecolor='k', depthshade=False, s=500)\n",
    "    ax.view_init(20, 155)\n",
    "    ax.set_box_aspect([1, 1, 1])\n",
    "    ax = set_axes_equal(ax)\n",
    "    ax.set_axis_off()\n",
    "    fig.tight_layout()\n",
    "    plt.show()\n",
    "    fname = '04-rgb-cube.png'\n",
    "    # fig.savefig(os.path.join('figures', fname), dpi=300)"
   ]
  },
  {
   "cell_type": "code",
   "execution_count": null,
   "id": "da7666ba-2262-4f61-8491-8e4b2b574020",
   "metadata": {},
   "outputs": [],
   "source": []
  }
 ],
 "metadata": {
  "kernelspec": {
   "display_name": "Python 3 (ipykernel)",
   "language": "python",
   "name": "python3"
  },
  "language_info": {
   "codemirror_mode": {
    "name": "ipython",
    "version": 3
   },
   "file_extension": ".py",
   "mimetype": "text/x-python",
   "name": "python",
   "nbconvert_exporter": "python",
   "pygments_lexer": "ipython3",
   "version": "3.9.16"
  }
 },
 "nbformat": 4,
 "nbformat_minor": 5
}
