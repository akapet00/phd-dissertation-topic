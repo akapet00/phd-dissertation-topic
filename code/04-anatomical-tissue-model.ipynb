{
 "cells": [
  {
   "cell_type": "code",
   "execution_count": null,
   "id": "69418c02-a61e-4c79-916e-0fcb64c1bf0c",
   "metadata": {},
   "outputs": [],
   "source": [
    "import itertools\n",
    "import os\n",
    "\n",
    "import matplotlib.pyplot as plt\n",
    "import numpy as np\n",
    "import open3d as o3d\n",
    "import pandas as pd\n",
    "from scipy import spatial\n",
    "from scipy import interpolate\n",
    "import seaborn as sns\n",
    "\n",
    "from utils import (estimate_normals_pca, estimate_normals_spline,\n",
    "                   orient_normals, n2rgb)\n",
    "from plotting import set_axes_equal, set_defense_context, draw_unit_cube"
   ]
  },
  {
   "cell_type": "code",
   "execution_count": null,
   "id": "a33a5e8a-3f5d-4ef7-ad5a-062e7a768ec6",
   "metadata": {},
   "outputs": [],
   "source": [
    "%config InlineBackend.figure_format = 'retina'"
   ]
  },
  {
   "cell_type": "code",
   "execution_count": null,
   "id": "84cc7f1f-2fdd-4746-9a23-7b468f939a69",
   "metadata": {},
   "outputs": [],
   "source": [
    "c = sns.color_palette('rocket', n_colors=1)"
   ]
  },
  {
   "cell_type": "code",
   "execution_count": null,
   "id": "ab56f9dd-37ab-4710-b249-d7a7682ebaa8",
   "metadata": {},
   "outputs": [],
   "source": [
    "def add_coordinate_frame(ax):\n",
    "    \"\"\"Set RGB coordinate frame to axes.\n",
    "    \n",
    "    Parameters\n",
    "    ----------\n",
    "    ax : matplotlib.axes._subplots.Axes3DSubplot\n",
    "        3-D axes subplot.\n",
    "    \n",
    "    Returns\n",
    "    -------\n",
    "    matplotlib.axes._subplots.Axes3DSubplot\n",
    "        Axes with coordinate frame.\n",
    "    \"\"\"\n",
    "    ax.quiver(-1.5, -1, -1.5, 0.75, 0, 0, lw=0.5, color='r')\n",
    "    ax.text(0, -1, -1.5, s='$x$', color='r', fontweight='bold')\n",
    "    ax.quiver(-1.5, -1, -1.5, 0, 0.75, 0, lw=0.5, color='g')\n",
    "    ax.text(-1.5, +0.25, -1.5, s='$y$', color='g', fontweight='bold')\n",
    "    ax.quiver(-1.5, -1, -1.5, 0, 0, 0.75, lw=0.5, color='b')\n",
    "    ax.text(-1.5, -1, -0.5, s='$z$', color='b', fontweight='bold')\n",
    "    ax.scatter(-1.5, -1, -1.5, s=7, color='k', depthshade=False)\n",
    "    return ax"
   ]
  },
  {
   "cell_type": "markdown",
   "id": "a6ea2048-3dc9-4a70-9f63-ad8be7db46d4",
   "metadata": {},
   "source": [
    "# PCA via Open3D - unit normal"
   ]
  },
  {
   "cell_type": "code",
   "execution_count": null,
   "id": "67492ae7-34d1-4078-ba14-328443e4da2e",
   "metadata": {},
   "outputs": [],
   "source": [
    "# load ear coordinates\n",
    "\n",
    "xyz = pd.read_csv(os.path.join('data', 'ear.xyz')).values * 100  # in cm"
   ]
  },
  {
   "cell_type": "code",
   "execution_count": null,
   "id": "30ef23ec-9914-4feb-8cfd-8a2689ee3711",
   "metadata": {},
   "outputs": [],
   "source": [
    "# estimate unit normals\n",
    "\n",
    "n_pca = estimate_normals_pca(xyz, knn=111)\n",
    "n_pca = orient_normals(xyz, n_pca, knn=30)"
   ]
  },
  {
   "cell_type": "code",
   "execution_count": null,
   "id": "1ad140df-2e6e-4aa8-a962-1c6ed888d824",
   "metadata": {},
   "outputs": [],
   "source": [
    "# grid downsample\n",
    "\n",
    "N = xyz.shape[0]\n",
    "num = 0.05 * N\n",
    "mask = np.arange(0, N, int(N/num))"
   ]
  },
  {
   "cell_type": "code",
   "execution_count": null,
   "id": "ff4e7e3e-0613-4592-82e0-cdfa41d334bb",
   "metadata": {},
   "outputs": [],
   "source": [
    "with set_defense_context():\n",
    "    fig = plt.figure(figsize=(4, 4), constrained_layout=True)\n",
    "    ax = plt.axes(projection ='3d')\n",
    "    ax.quiver(*xyz[mask].T, *n_pca[mask].T, color='k',\n",
    "              length=0.55, lw=0.5)\n",
    "    ax.view_init(20, 150)\n",
    "    ax.set_box_aspect([1, 1, 1])\n",
    "    ax = set_axes_equal(ax)\n",
    "    ax.set_axis_off()\n",
    "    plt.show()\n",
    "    fname = 'normals.png'\n",
    "    fig.savefig(os.path.join('figures', 'ear', fname),\n",
    "                dpi=500, bbox_inches='tight')"
   ]
  },
  {
   "cell_type": "code",
   "execution_count": null,
   "id": "7bf5aa3e-d576-4071-ba33-aa843b289c3e",
   "metadata": {},
   "outputs": [],
   "source": [
    "# convert arrows to rgb cube\n",
    "\n",
    "with set_defense_context():\n",
    "    fig = plt.figure(figsize=(4, 4), constrained_layout=True)\n",
    "    ax = plt.axes(projection ='3d')\n",
    "    s = ax.scatter(*xyz.T, color=n2rgb(n_pca), s=0.3)\n",
    "    ax = add_coordinate_frame(ax)\n",
    "    ax.view_init(20, 155)\n",
    "    ax.set_box_aspect([1, 1, 1])\n",
    "    ax = set_axes_equal(ax)\n",
    "    ax.set_axis_off()\n",
    "    plt.show()\n",
    "    fname = 'normals-rgb.png'\n",
    "    fig.savefig(os.path.join('figures', 'ear', fname),\n",
    "                dpi=500, bbox_inches='tight')"
   ]
  },
  {
   "cell_type": "markdown",
   "id": "16c66e2b-be16-4db4-9004-f4eb2cedabd6",
   "metadata": {},
   "source": [
    "# Bivariate B-spline - surface (curvature) normal"
   ]
  },
  {
   "cell_type": "code",
   "execution_count": null,
   "id": "249b8a45-7a0b-44e0-ac69-1f208be72e81",
   "metadata": {},
   "outputs": [],
   "source": [
    "# estimate surface normals\n",
    "\n",
    "n_spl = estimate_normals_spline(xyz, unit=True, knn=111)\n",
    "n_spl = orient_normals(xyz, n_spl, knn=30)"
   ]
  },
  {
   "cell_type": "code",
   "execution_count": null,
   "id": "44f1aeb6-bb56-499d-b2ba-4c4893dfe5ba",
   "metadata": {},
   "outputs": [],
   "source": [
    "# convert arrows to rgb cube\n",
    "\n",
    "with set_defense_context():\n",
    "    fig = plt.figure(figsize=(4, 4), constrained_layout=True)\n",
    "    ax = plt.axes(projection ='3d')\n",
    "    s = ax.scatter(*xyz.T, color=n2rgb(n_spl), s=0.3)\n",
    "    ax = add_coordinate_frame(ax)\n",
    "    ax.view_init(20, 155)\n",
    "    ax.set_box_aspect([1, 1, 1])\n",
    "    ax = set_axes_equal(ax)\n",
    "    ax.set_axis_off()\n",
    "    plt.show()\n",
    "    fname = 'surface-normals.png'\n",
    "    fig.savefig(os.path.join('figures', 'ear', fname),\n",
    "                dpi=500, bbox_inches='tight')"
   ]
  },
  {
   "cell_type": "markdown",
   "id": "090d9ce9-9f0c-4d03-ba45-987a6ecb7fc9",
   "metadata": {},
   "source": [
    "# Error angle"
   ]
  },
  {
   "cell_type": "code",
   "execution_count": null,
   "id": "ee043c0c-e4e1-479f-9e96-ca918b09a41e",
   "metadata": {},
   "outputs": [],
   "source": [
    "# compute error\n",
    "\n",
    "theta = np.arccos(\n",
    "    np.round(  # to avoid numerical instabilities\n",
    "        np.sum(n_pca * n_spl, axis=1),  # scalar product\n",
    "    6)\n",
    ") * 180 / np.pi\n",
    "theta_rms = np.sqrt(np.mean(theta) ** 2)\n",
    "theta_rms"
   ]
  },
  {
   "cell_type": "code",
   "execution_count": null,
   "id": "c95c3b45-af22-4c34-9b1c-43c15badcc57",
   "metadata": {},
   "outputs": [],
   "source": [
    "with set_defense_context():\n",
    "    fig = plt.figure(figsize=(4, 3))\n",
    "    ax = plt.axes()\n",
    "    ax.hist(theta, bins=31, density=True, ec='k', fc=c[0])\n",
    "    ax.set(xlabel=r'$\\theta$ (°)', ylabel='density',\n",
    "           title=f'rms($\\\\theta$) = {theta_rms:.2f}°')\n",
    "    fig.tight_layout()\n",
    "    sns.despine()\n",
    "    plt.show()\n",
    "    fname = 'error-hist.png'\n",
    "    fig.savefig(os.path.join('figures', 'ear', fname),\n",
    "                dpi=500, bbox_inches='tight')"
   ]
  },
  {
   "cell_type": "code",
   "execution_count": null,
   "id": "19a1a76c-71cd-445e-9610-901e8360a931",
   "metadata": {},
   "outputs": [],
   "source": [
    "with set_defense_context():\n",
    "    fig = plt.figure(figsize=(4, 4), constrained_layout=True)\n",
    "    ax = plt.axes(projection ='3d')\n",
    "    s = ax.scatter(*xyz.T, c=theta, s=0.3)\n",
    "    ax = add_coordinate_frame(ax)\n",
    "    ax.view_init(20, 155)\n",
    "    ax.set_box_aspect([1, 1, 1])\n",
    "    ax = set_axes_equal(ax)\n",
    "    ax.set_axis_off()\n",
    "    fig.colorbar(s, ax=ax, orientation='vertical', shrink=0.5, pad=-0.25,\n",
    "                 label=r'$\\theta$ (°)')\n",
    "    plt.show()\n",
    "    fname = 'error-dist.png'\n",
    "    fig.savefig(os.path.join('figures', 'ear', fname),\n",
    "                dpi=500, bbox_inches='tight')"
   ]
  },
  {
   "cell_type": "markdown",
   "id": "e887098e-f4ae-4226-bb45-b9dcd6480ad3",
   "metadata": {},
   "source": [
    "# RGB cube"
   ]
  },
  {
   "cell_type": "code",
   "execution_count": null,
   "id": "8fe8f4c5-d86b-4a1b-9141-96c1da0fe7c7",
   "metadata": {},
   "outputs": [],
   "source": [
    "# set up coloring for rgb cube\n",
    "\n",
    "pts = np.array(list(itertools.product([0, 1], repeat=3)))\n",
    "cs = ['black', 'blue', 'green', 'cyan', 'red', 'magenta', 'yellow', 'white']\n",
    "pairs = pd.DataFrame(data=pts, columns=['x', 'y', 'z'])\n",
    "pairs['cs'] = cs"
   ]
  },
  {
   "cell_type": "code",
   "execution_count": null,
   "id": "722245d9-bcbc-4810-809c-d0335a9e42ba",
   "metadata": {},
   "outputs": [],
   "source": [
    "with set_defense_context():\n",
    "    fig = plt.figure(figsize=(2, 2), constrained_layout=True)\n",
    "    ax = plt.axes(projection ='3d')\n",
    "    ax = draw_unit_cube(ax)\n",
    "    ax.scatter(*pts.T, c=cs, edgecolor='k', depthshade=False, s=500)\n",
    "    ax.view_init(20, 155)\n",
    "    ax.set_box_aspect([1, 1, 1])\n",
    "    ax = set_axes_equal(ax)\n",
    "    ax.set_axis_off()\n",
    "    fig.tight_layout()\n",
    "    plt.show()\n",
    "    fname = 'rgb-cube.png'\n",
    "    fig.savefig(os.path.join('figures', 'ear', fname),\n",
    "                dpi=500, bbox_inches='tight')"
   ]
  },
  {
   "cell_type": "code",
   "execution_count": null,
   "id": "da7666ba-2262-4f61-8491-8e4b2b574020",
   "metadata": {},
   "outputs": [],
   "source": []
  }
 ],
 "metadata": {
  "kernelspec": {
   "display_name": "Python 3 (ipykernel)",
   "language": "python",
   "name": "python3"
  },
  "language_info": {
   "codemirror_mode": {
    "name": "ipython",
    "version": 3
   },
   "file_extension": ".py",
   "mimetype": "text/x-python",
   "name": "python",
   "nbconvert_exporter": "python",
   "pygments_lexer": "ipython3",
   "version": "3.9.16"
  }
 },
 "nbformat": 4,
 "nbformat_minor": 5
}
