{
 "cells": [
  {
   "cell_type": "code",
   "execution_count": null,
   "id": "69418c02-a61e-4c79-916e-0fcb64c1bf0c",
   "metadata": {},
   "outputs": [],
   "source": [
    "import os\n",
    "\n",
    "import matplotlib.pyplot as plt\n",
    "from matplotlib import patches\n",
    "from mpl_toolkits.mplot3d import art3d\n",
    "import numpy as np\n",
    "import seaborn as sns\n",
    "\n",
    "from src.data import load_ear_pcd\n",
    "from src.mappings import encode_normals_rgb\n",
    "from src.metrics import angle_error, rms_angle_error\n",
    "from src.normals import (estim_normals_pca,\n",
    "                         estim_normals_spline,\n",
    "                         estim_normals_poly)\n",
    "from src.orientation import orient_normals\n",
    "from src.plotting import set_defense_context, set_axes_equal, draw_unit_cube"
   ]
  },
  {
   "cell_type": "code",
   "execution_count": null,
   "id": "a33a5e8a-3f5d-4ef7-ad5a-062e7a768ec6",
   "metadata": {},
   "outputs": [],
   "source": [
    "%config InlineBackend.figure_format = 'retina'"
   ]
  },
  {
   "cell_type": "code",
   "execution_count": null,
   "id": "84cc7f1f-2fdd-4746-9a23-7b468f939a69",
   "metadata": {},
   "outputs": [],
   "source": [
    "# constants\n",
    "\n",
    "c = sns.color_palette('rocket', n_colors=1)\n",
    "elev, azim = 20, 155"
   ]
  },
  {
   "cell_type": "code",
   "execution_count": null,
   "id": "ab56f9dd-37ab-4710-b249-d7a7682ebaa8",
   "metadata": {},
   "outputs": [],
   "source": [
    "def add_coordinate_frame(ax):\n",
    "    \"\"\"Set RGB coordinate frame to axes.\n",
    "    \n",
    "    Parameters\n",
    "    ----------\n",
    "    ax : matplotlib.axes._subplots.Axes3DSubplot\n",
    "        3-D axes subplot.\n",
    "    \n",
    "    Returns\n",
    "    -------\n",
    "    matplotlib.axes._subplots.Axes3DSubplot\n",
    "        Axes with coordinate frame.\n",
    "    \"\"\"\n",
    "    ax.quiver(-1.5, -1, -1.5, 0.75, 0, 0, lw=0.5, color='r')\n",
    "    ax.text(0, -1, -1.5, s='$x$', color='r', fontweight='bold')\n",
    "    ax.quiver(-1.5, -1, -1.5, 0, 0.75, 0, lw=0.5, color='g')\n",
    "    ax.text(-1.5, +0.25, -1.5, s='$y$', color='g', fontweight='bold')\n",
    "    ax.quiver(-1.5, -1, -1.5, 0, 0, 0.75, lw=0.5, color='b')\n",
    "    ax.text(-1.5, -1, -0.5, s='$z$', color='b', fontweight='bold')\n",
    "    ax.scatter(-1.5, -1, -1.5, s=7, color='k', depthshade=False)\n",
    "    return ax"
   ]
  },
  {
   "cell_type": "markdown",
   "id": "5d3e8ced-e8a3-43b0-9bde-7444beadf8c4",
   "metadata": {},
   "source": [
    "# Data"
   ]
  },
  {
   "cell_type": "code",
   "execution_count": null,
   "id": "41d7d3f2-b077-45ec-abbe-37e11a240a46",
   "metadata": {},
   "outputs": [],
   "source": [
    "xyz = load_ear_pcd() * 100  # in cm"
   ]
  },
  {
   "cell_type": "markdown",
   "id": "a6ea2048-3dc9-4a70-9f63-ad8be7db46d4",
   "metadata": {},
   "source": [
    "# PCA via Open3D - unit normal"
   ]
  },
  {
   "cell_type": "code",
   "execution_count": null,
   "id": "30ef23ec-9914-4feb-8cfd-8a2689ee3711",
   "metadata": {},
   "outputs": [],
   "source": [
    "# estimate unit normals\n",
    "\n",
    "n_pca = estim_normals_pca(xyz, k=100)\n",
    "n_pca = orient_normals(xyz, n_pca, k=30)"
   ]
  },
  {
   "cell_type": "code",
   "execution_count": null,
   "id": "1ad140df-2e6e-4aa8-a962-1c6ed888d824",
   "metadata": {},
   "outputs": [],
   "source": [
    "# grid downsample\n",
    "\n",
    "N = xyz.shape[0]\n",
    "num = 0.05 * N\n",
    "mask = np.arange(0, N, int(N/num))"
   ]
  },
  {
   "cell_type": "code",
   "execution_count": null,
   "id": "8386912d-4522-4e6a-aa7f-55f6b03e9382",
   "metadata": {},
   "outputs": [],
   "source": [
    "with set_defense_context():\n",
    "    fig = plt.figure(figsize=(4, 4), constrained_layout=True)\n",
    "    ax = plt.axes(projection ='3d')\n",
    "    ax.scatter(*xyz[mask].T, color='k', fc='w', ec='k', s=7, lw=0.5)\n",
    "    ax.view_init(elev, azim)\n",
    "    ax.set_box_aspect([1, 1, 1])\n",
    "    ax = set_axes_equal(ax)\n",
    "    ax.set_axis_off()\n",
    "    plt.show()\n",
    "    fname = 'cloud.png'\n",
    "    fig.savefig(os.path.join('figures', 'ear', fname),\n",
    "                dpi=500, bbox_inches='tight')"
   ]
  },
  {
   "cell_type": "code",
   "execution_count": null,
   "id": "a1350324-a9e1-4d9e-849a-00a384bf52fb",
   "metadata": {},
   "outputs": [],
   "source": [
    "xi = xyz[np.argmin(xyz[mask, 0]), ...]\n",
    "with set_defense_context():\n",
    "    fig = plt.figure(figsize=(4, 4), constrained_layout=True)\n",
    "    ax = plt.axes(projection ='3d')\n",
    "    ax.scatter(*xyz[mask].T, fc='w', ec='k', s=7, lw=0.5)\n",
    "    ax.plot(*xi, marker='o', ls='none', mfc=c[0], mec='k', mew=0.5, ms=4)\n",
    "    p = patches.Circle(xi[1:], 0.5, fc='none', ec='k', lw=1.5)\n",
    "    ax.add_patch(p)\n",
    "    art3d.pathpatch_2d_to_3d(p, z=0, zdir='x')\n",
    "    ax.view_init(elev, azim)\n",
    "    ax.set_box_aspect([1, 1, 1])\n",
    "    ax = set_axes_equal(ax)\n",
    "    ax.set_axis_off()\n",
    "    plt.show()\n",
    "    fname = 'cloud-xi.png'\n",
    "    fig.savefig(os.path.join('figures', 'ear', fname),\n",
    "                dpi=500, bbox_inches='tight')"
   ]
  },
  {
   "cell_type": "code",
   "execution_count": null,
   "id": "d16ec1bc-039d-48d7-82f4-fb57489ee9de",
   "metadata": {},
   "outputs": [],
   "source": [
    "xyz[mask].shape"
   ]
  },
  {
   "cell_type": "code",
   "execution_count": null,
   "id": "ff4e7e3e-0613-4592-82e0-cdfa41d334bb",
   "metadata": {},
   "outputs": [],
   "source": [
    "with set_defense_context():\n",
    "    fig = plt.figure(figsize=(4, 4), constrained_layout=True)\n",
    "    ax = plt.axes(projection ='3d')\n",
    "    ax.quiver(*xyz[mask].T, *n_pca[mask].T, color='k',\n",
    "              length=0.55, lw=0.5)\n",
    "    ax.view_init(elev, azim)\n",
    "    ax.set_box_aspect([1, 1, 1])\n",
    "    ax = set_axes_equal(ax)\n",
    "    ax.set_axis_off()\n",
    "    plt.show()\n",
    "    fname = 'normals.png'\n",
    "    fig.savefig(os.path.join('figures', 'ear', fname),\n",
    "                dpi=500, bbox_inches='tight')"
   ]
  },
  {
   "cell_type": "code",
   "execution_count": null,
   "id": "7bf5aa3e-d576-4071-ba33-aa843b289c3e",
   "metadata": {},
   "outputs": [],
   "source": [
    "# convert arrows to rgb cube\n",
    "\n",
    "with set_defense_context():\n",
    "    fig = plt.figure(figsize=(4, 4), constrained_layout=True)\n",
    "    ax = plt.axes(projection ='3d')\n",
    "    s = ax.scatter(*xyz.T, color=encode_normals_rgb(n_pca), s=0.3)\n",
    "    ax = add_coordinate_frame(ax)\n",
    "    ax.view_init(elev, azim)\n",
    "    ax.set_box_aspect([1, 1, 1])\n",
    "    ax = set_axes_equal(ax)\n",
    "    ax.set_axis_off()\n",
    "    plt.show()\n",
    "    fname = 'normals-rgb.png'\n",
    "    fig.savefig(os.path.join('figures', 'ear', fname),\n",
    "                dpi=500, bbox_inches='tight')"
   ]
  },
  {
   "cell_type": "markdown",
   "id": "16c66e2b-be16-4db4-9004-f4eb2cedabd6",
   "metadata": {},
   "source": [
    "# Bivariate B-spline - surface (curvature) normal"
   ]
  },
  {
   "cell_type": "code",
   "execution_count": null,
   "id": "249b8a45-7a0b-44e0-ac69-1f208be72e81",
   "metadata": {},
   "outputs": [],
   "source": [
    "# estimate surface normals\n",
    "\n",
    "n_spl = estim_normals_spline(xyz, k=100, deg=3, s=1)\n",
    "n_spl = orient_normals(xyz, n_spl, k=30)"
   ]
  },
  {
   "cell_type": "code",
   "execution_count": null,
   "id": "44f1aeb6-bb56-499d-b2ba-4c4893dfe5ba",
   "metadata": {},
   "outputs": [],
   "source": [
    "# convert arrows to rgb cube\n",
    "\n",
    "with set_defense_context():\n",
    "    fig = plt.figure(figsize=(4, 4), constrained_layout=True)\n",
    "    ax = plt.axes(projection ='3d')\n",
    "    s = ax.scatter(*xyz.T, color=encode_normals_rgb(n_spl), s=0.3)\n",
    "    ax = add_coordinate_frame(ax)\n",
    "    ax.view_init(elev, azim)\n",
    "    ax.set_box_aspect([1, 1, 1])\n",
    "    ax = set_axes_equal(ax)\n",
    "    ax.set_axis_off()\n",
    "    plt.show()\n",
    "    fname = 'surface-normals.png'\n",
    "    fig.savefig(os.path.join('figures', 'ear', fname),\n",
    "                dpi=500, bbox_inches='tight')"
   ]
  },
  {
   "cell_type": "markdown",
   "id": "090d9ce9-9f0c-4d03-ba45-987a6ecb7fc9",
   "metadata": {},
   "source": [
    "# Error angle"
   ]
  },
  {
   "cell_type": "code",
   "execution_count": null,
   "id": "ee043c0c-e4e1-479f-9e96-ca918b09a41e",
   "metadata": {},
   "outputs": [],
   "source": [
    "# compute error wrt orientation\n",
    "\n",
    "theta = angle_error(n_spl, n_pca)\n",
    "theta_rms = rms_angle_error(n_spl, n_pca)\n",
    "theta_rms"
   ]
  },
  {
   "cell_type": "code",
   "execution_count": null,
   "id": "c95c3b45-af22-4c34-9b1c-43c15badcc57",
   "metadata": {},
   "outputs": [],
   "source": [
    "with set_defense_context():\n",
    "    fig = plt.figure(figsize=(4, 3))\n",
    "    ax = plt.axes()\n",
    "    ax.hist(theta, bins=31, density=True, ec='k', fc=c[0])\n",
    "    ax.set(xlabel=r'$\\theta$ (°)', ylabel='density',\n",
    "           title=f'rms($\\\\theta$) = {theta_rms:.2f}°')\n",
    "    fig.tight_layout()\n",
    "    sns.despine()\n",
    "    plt.show()\n",
    "    fname = 'error-hist.png'\n",
    "    fig.savefig(os.path.join('figures', 'ear', fname),\n",
    "                dpi=500, bbox_inches='tight')"
   ]
  },
  {
   "cell_type": "code",
   "execution_count": null,
   "id": "d0993edd-7cb3-4a3e-9c9d-0ba07cdfc267",
   "metadata": {},
   "outputs": [],
   "source": [
    "theta = angle_error(n_spl, n_pca, orient=False)\n",
    "mask = np.where(theta <= np.quantile(theta, 0.99))[0]"
   ]
  },
  {
   "cell_type": "code",
   "execution_count": null,
   "id": "19a1a76c-71cd-445e-9610-901e8360a931",
   "metadata": {},
   "outputs": [],
   "source": [
    "with set_defense_context():\n",
    "    fig = plt.figure(figsize=(4, 4), constrained_layout=True)\n",
    "    ax = plt.axes(projection ='3d')\n",
    "    s = ax.scatter(*xyz[mask].T, c=theta[mask], s=0.3)\n",
    "    ax = add_coordinate_frame(ax)\n",
    "    fig.colorbar(s, ax=ax, orientation='vertical', shrink=0.5, pad=-0.25,\n",
    "                 label=r'$\\theta$ (°)')\n",
    "    ax.view_init(elev, azim)\n",
    "    ax.set_box_aspect([1, 1, 1])\n",
    "    ax = set_axes_equal(ax)\n",
    "    ax.set_axis_off()\n",
    "    plt.show()\n",
    "    fname = 'error-dist.png'\n",
    "    fig.savefig(os.path.join('figures', 'ear', fname),\n",
    "                dpi=500, bbox_inches='tight')"
   ]
  },
  {
   "cell_type": "markdown",
   "id": "e887098e-f4ae-4226-bb45-b9dcd6480ad3",
   "metadata": {},
   "source": [
    "# RGB cube"
   ]
  },
  {
   "cell_type": "code",
   "execution_count": null,
   "id": "722245d9-bcbc-4810-809c-d0335a9e42ba",
   "metadata": {},
   "outputs": [],
   "source": [
    "with set_defense_context():\n",
    "    fig = plt.figure(figsize=(2, 2), constrained_layout=True)\n",
    "    ax = plt.axes(projection ='3d')\n",
    "    ax = draw_unit_cube(ax)\n",
    "    ax.view_init(elev, azim)\n",
    "    ax.set_box_aspect([1, 1, 1])\n",
    "    ax = set_axes_equal(ax)\n",
    "    ax.set_axis_off()\n",
    "    plt.show()\n",
    "    fname = 'rgb-cube.png'\n",
    "    fig.savefig(os.path.join('figures', 'ear', fname),\n",
    "                dpi=500, bbox_inches='tight')"
   ]
  },
  {
   "cell_type": "code",
   "execution_count": null,
   "id": "da7666ba-2262-4f61-8491-8e4b2b574020",
   "metadata": {},
   "outputs": [],
   "source": []
  }
 ],
 "metadata": {
  "kernelspec": {
   "display_name": "Python 3 (ipykernel)",
   "language": "python",
   "name": "python3"
  },
  "language_info": {
   "codemirror_mode": {
    "name": "ipython",
    "version": 3
   },
   "file_extension": ".py",
   "mimetype": "text/x-python",
   "name": "python",
   "nbconvert_exporter": "python",
   "pygments_lexer": "ipython3",
   "version": "3.9.16"
  }
 },
 "nbformat": 4,
 "nbformat_minor": 5
}
