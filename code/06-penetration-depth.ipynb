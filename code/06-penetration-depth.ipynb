{
 "cells": [
  {
   "cell_type": "code",
   "execution_count": null,
   "id": "22b86159-57ae-4110-9d96-8f8ed127cf90",
   "metadata": {},
   "outputs": [],
   "source": [
    "import os\n",
    "\n",
    "import matplotlib.pyplot as plt\n",
    "import numpy as np\n",
    "from scipy.constants import epsilon_0 as eps_0, mu_0\n",
    "import seaborn as sns\n",
    "\n",
    "from src.plotting import set_defense_context"
   ]
  },
  {
   "cell_type": "code",
   "execution_count": null,
   "id": "d4eef88a-fcd0-45e5-945a-6e02858b8eaf",
   "metadata": {},
   "outputs": [],
   "source": [
    "%config InlineBackend.figure_format = 'retina'"
   ]
  },
  {
   "cell_type": "code",
   "execution_count": null,
   "id": "dec6834c-7990-4e4f-8e27-9b1acf9b5e67",
   "metadata": {},
   "outputs": [],
   "source": [
    "# constants\n",
    "c = sns.color_palette('rocket', n_colors=2)"
   ]
  },
  {
   "cell_type": "code",
   "execution_count": null,
   "id": "17ce0f92-88c0-4bcc-9c79-7cd72573b36c",
   "metadata": {},
   "outputs": [],
   "source": [
    "# EM data\n",
    "\n",
    "f = np.array([1, 2, 5, 10, 20, 50, 100]) * 1e9\n",
    "eps_r = np.array([4.094e+1, 3.857e+1, 3.577e+1, 3.129e+1, 2.196e+1, 9.402e+0, 5.599e+0])\n",
    "penetration_depth = np.array([3.845e-2, 2.633e-2, 1.049e-2, 3.798e-3, 1.379e-3, 5.422e-4, 3.641e-4])"
   ]
  },
  {
   "cell_type": "code",
   "execution_count": null,
   "id": "ab162c84-6581-40b8-b2da-54c6dcf4f268",
   "metadata": {},
   "outputs": [],
   "source": [
    "# power transmission coefficient\n",
    "\n",
    "scaler = np.sqrt(eps_r - np.sin(0) ** 2)\n",
    "gamma = np.abs((-eps_r * np.cos(0) + scaler)\n",
    "               / (eps_r * np.cos(0) + scaler))\n",
    "T_tr = 1 - gamma ** 2"
   ]
  },
  {
   "cell_type": "code",
   "execution_count": null,
   "id": "bc9866d4-569c-4bd3-8dcf-333528d3027b",
   "metadata": {},
   "outputs": [],
   "source": [
    "with set_defense_context():\n",
    "    fig = plt.figure(figsize=(4, 3))\n",
    "    ax1 = plt.axes()\n",
    "    ax1.plot(f / 1e9, penetration_depth * 1000, 'o-', c=c[0], lw=3, ms=8,\n",
    "             label='penetration\\ndepth')\n",
    "    ax1.tick_params(axis='y', labelcolor=c[0])\n",
    "    ax1.set(\n",
    "        xscale='log',\n",
    "        xlabel='frequency (GHz)',\n",
    "        ylabel='penetration depth (mm)',\n",
    "        yticks=[0, 25, 50],\n",
    "        yticklabels=[0, 25, 50],\n",
    "        )\n",
    "    \n",
    "    ax2 = ax1.twinx()\n",
    "    ax2.plot(f / 1e9, np.abs(T_tr), '^--', c=c[1], lw=3, ms=8,\n",
    "            label='transmission\\ncoefficient')\n",
    "    ax2.tick_params(axis='y', labelcolor=c[1])\n",
    "    ax2.set(\n",
    "        xscale='log',\n",
    "        ylabel='transmission coefficient',\n",
    "        xticks=[1, 10, 100],\n",
    "        xticklabels=[1, 10, 100],\n",
    "        yticks=[0.4, 0.7, 1],\n",
    "        yticklabels=[0.4, 0.7, 1],\n",
    "        ylim=[0.385, 1]\n",
    "        )\n",
    "    fig.tight_layout()\n",
    "    sns.despine(right=False)\n",
    "    plt.show()\n",
    "    fname = 'penetration_depth.pdf'\n",
    "    fig.savefig(os.path.join('figures', 'penetration-depth', fname),\n",
    "                bbox_inches='tight')"
   ]
  },
  {
   "cell_type": "code",
   "execution_count": null,
   "id": "152d00f1-b185-43ce-8deb-3ad6cc6996c5",
   "metadata": {},
   "outputs": [],
   "source": []
  },
  {
   "cell_type": "code",
   "execution_count": null,
   "id": "722c3be7-745a-4699-a7a3-2fd482f6debf",
   "metadata": {},
   "outputs": [],
   "source": []
  },
  {
   "cell_type": "code",
   "execution_count": null,
   "id": "ab925fca-e898-42b7-a999-a4afada2a8c3",
   "metadata": {},
   "outputs": [],
   "source": []
  },
  {
   "cell_type": "code",
   "execution_count": null,
   "id": "f46546e7-7c6e-4ceb-8a9f-dd0ae4dcd31c",
   "metadata": {},
   "outputs": [],
   "source": []
  },
  {
   "cell_type": "code",
   "execution_count": null,
   "id": "eda430c4-b980-44e6-a778-4a6b3d6af996",
   "metadata": {},
   "outputs": [],
   "source": []
  }
 ],
 "metadata": {
  "kernelspec": {
   "display_name": "Python 3 (ipykernel)",
   "language": "python",
   "name": "python3"
  },
  "language_info": {
   "codemirror_mode": {
    "name": "ipython",
    "version": 3
   },
   "file_extension": ".py",
   "mimetype": "text/x-python",
   "name": "python",
   "nbconvert_exporter": "python",
   "pygments_lexer": "ipython3",
   "version": "3.9.16"
  }
 },
 "nbformat": 4,
 "nbformat_minor": 5
}
