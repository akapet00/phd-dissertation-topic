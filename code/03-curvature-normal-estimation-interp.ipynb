{
 "cells": [
  {
   "cell_type": "code",
   "execution_count": null,
   "id": "577fc732-3d1f-42a2-a4c3-b5c2ccd55e5c",
   "metadata": {},
   "outputs": [],
   "source": [
    "import os\n",
    "\n",
    "import matplotlib.pyplot as plt\n",
    "import numpy as np\n",
    "from scipy import interpolate\n",
    "\n",
    "from plotting import set_defense_context"
   ]
  },
  {
   "cell_type": "code",
   "execution_count": null,
   "id": "f8f60acd-9cdc-4c29-a806-40dbfe2199a5",
   "metadata": {},
   "outputs": [],
   "source": [
    "%config InlineBackend.figure_format = 'retina'"
   ]
  },
  {
   "cell_type": "code",
   "execution_count": null,
   "id": "f0f6944d-623a-4d57-8e27-4b92d6a44c2d",
   "metadata": {},
   "outputs": [],
   "source": [
    "def add_coordinate_frame(ax):\n",
    "    \"\"\"Set RGB coordinate frame to axes.\n",
    "    \n",
    "    Parameters\n",
    "    ----------\n",
    "    ax : matplotlib.axes._subplots.Axes3DSubplot\n",
    "        3-D axes subplot.\n",
    "    \n",
    "    Returns\n",
    "    -------\n",
    "    matplotlib.axes._subplots.Axes3DSubplot\n",
    "        Axes with coordinate frame.\n",
    "    \"\"\"\n",
    "    ax.quiver(-2.5, -1, -1.5, 0.75, 0, 0, color='r')\n",
    "    ax.text(-1.35, -1, -1.5, s='$x$', color='r', fontweight='bold')\n",
    "    ax.quiver(-2.5, -1, -1.5, 0, 0.75, 0, color='g')\n",
    "    ax.text(-2.5, +0.25, -1.5, s='$y$', color='g', fontweight='bold')\n",
    "    ax.quiver(-2.5, -1, -1.5, 0, 0, 0.75, color='b')\n",
    "    ax.text(-2.5, -1, -0.5, s='$z$', color='b', fontweight='bold')\n",
    "    ax.scatter(-2.5, -1, -1.5, color='k', depthshade=False)\n",
    "    return ax"
   ]
  },
  {
   "cell_type": "code",
   "execution_count": null,
   "id": "b02197d2-ec6c-4092-b03d-71fedb396fd4",
   "metadata": {},
   "outputs": [],
   "source": [
    "def v(t, s):\n",
    "    \"\"\"Parametric surface in 3-D:\n",
    "    v(t, s) = (t + 1) i + (s) j + (s^2 - t^2 + 1) k\n",
    "    \"\"\"\n",
    "    return np.c_[t + 1,\n",
    "                 s,\n",
    "                 s ** 2 - t ** 2 + 1]\n",
    "\n",
    "def v_t(t, s):\n",
    "    \"\"\"First derivative of parametric surface, v, wrt t:\n",
    "    v_t(t, s) = i  + (-2 t) k\n",
    "    \"\"\"\n",
    "    return np.c_[np.ones_like(t),\n",
    "                 np.zeros_like(t),\n",
    "                 - 2 * t]\n",
    "\n",
    "def v_s(t, s):\n",
    "    \"\"\"First derivative of parametric surface, v, wrt s:\n",
    "    v_s(t, s) = j + (2 s) k\n",
    "    \"\"\"\n",
    "    return np.c_[np.zeros_like(s),\n",
    "                 np.ones_like(s),\n",
    "                 2 * s]\n",
    "\n",
    "def f(x, y, z):\n",
    "    \"\"\"Vector field that passes through V(t, s):\n",
    "    \"\"\"\n",
    "    return np.c_[np.ones_like(x),\n",
    "                 np.ones_like(y),\n",
    "                 np.ones_like(z)]\n",
    "\n",
    "I_exact = 16  # exact solution of flux of f-field through v-surface"
   ]
  },
  {
   "cell_type": "markdown",
   "id": "b3dcd42f-a5d7-4acb-b345-e59f09053bb5",
   "metadata": {},
   "source": [
    "# Analitically estimated normals"
   ]
  },
  {
   "cell_type": "code",
   "execution_count": null,
   "id": "b366e849-01f5-48ca-8245-cf89ba7f7a7f",
   "metadata": {},
   "outputs": [],
   "source": [
    "# set parametric surface\n",
    "\n",
    "# integration domain\n",
    "t_a, t_b = -2, 2\n",
    "s_a, s_b = -2, 2\n",
    "\n",
    "# scattered points\n",
    "t = np.linspace(t_a, t_b, 51)\n",
    "s = np.linspace(s_a, s_b, 51)\n",
    "T, S = np.meshgrid(t, s)\n",
    "\n",
    "# scattered parametric surface\n",
    "V = v(T.ravel(), S.ravel())"
   ]
  },
  {
   "cell_type": "code",
   "execution_count": null,
   "id": "0a8b4268-9e9b-4906-9a82-f9b88e3f0632",
   "metadata": {},
   "outputs": [],
   "source": [
    "with set_defense_context():\n",
    "    fig = plt.figure(figsize=(4, 4))\n",
    "    ax = plt.axes(projection ='3d')\n",
    "    ax.scatter(*V.T, color='b', s=1, depthshade=True)\n",
    "    ax = add_coordinate_frame(ax)\n",
    "    ax.view_init(20, 120)\n",
    "    ax.set(xlabel='x', ylabel='y', zlabel='z')\n",
    "    ax.set_axis_off()\n",
    "    fig.tight_layout()\n",
    "    plt.show()\n",
    "    fname = '03-sampled-surface.png'\n",
    "    # fig.savefig(os.path.join('figures', fname), dpi=300)"
   ]
  },
  {
   "cell_type": "code",
   "execution_count": null,
   "id": "d1ca918f-cee4-4b9e-ba1d-48b8f6c3871e",
   "metadata": {},
   "outputs": [],
   "source": [
    "# compute vector field F across the surface v\n",
    "\n",
    "x, y, z = V.T\n",
    "F = f(x, y, z)"
   ]
  },
  {
   "cell_type": "code",
   "execution_count": null,
   "id": "53d0e40a-1601-4886-a9b8-0316830b12b8",
   "metadata": {},
   "outputs": [],
   "source": [
    "show_idx = np.random.randint(0, F.shape[0], size=21)\n",
    "with set_defense_context():\n",
    "    fig = plt.figure(figsize=(4, 4))\n",
    "    ax = plt.axes(projection ='3d')\n",
    "    ax.scatter(*V.T, color='b', s=1, depthshade=True, zorder=0)\n",
    "    ax.quiver(*V[show_idx, :].T,\n",
    "              *F[show_idx, :].T,\n",
    "              color='red',\n",
    "              length=1,\n",
    "              label=r'$\\mathbf{F}(\\mathbf{v}(t, s))$',\n",
    "              zorder=1)\n",
    "    ax = add_coordinate_frame(ax)\n",
    "    ax.legend()\n",
    "    ax.view_init(20, 120)\n",
    "    ax.set(xlabel='x', ylabel='y', zlabel='z')\n",
    "    ax.set_axis_off()\n",
    "    fig.tight_layout()\n",
    "    plt.show()\n",
    "    fname = '03-vector-field-across-sampled-surface.png'\n",
    "    # fig.savefig(os.path.join('figures', fname), dpi=300)"
   ]
  },
  {
   "cell_type": "code",
   "execution_count": null,
   "id": "8658c783-e7c2-4378-a42e-e056f5b76b55",
   "metadata": {},
   "outputs": [],
   "source": [
    "# compute unit normals from analytical partial derivative expressions\n",
    "\n",
    "V_T = v_t(T.ravel(), S.ravel())\n",
    "V_S = v_s(T.ravel(), S.ravel())\n",
    "n = np.cross(V_T, V_S)"
   ]
  },
  {
   "cell_type": "code",
   "execution_count": null,
   "id": "f962df7b-7947-4df0-8d1a-2f8e62b936d7",
   "metadata": {},
   "outputs": [],
   "source": [
    "show_idx = np.random.randint(0, F.shape[0], size=21)\n",
    "with set_defense_context():\n",
    "    fig = plt.figure(figsize=(4, 4))\n",
    "    ax = plt.axes(projection ='3d')\n",
    "    ax.scatter(*V.T, color='b', s=1, depthshade=True, zorder=0)\n",
    "    ax.quiver(*V[show_idx, :].T,\n",
    "              *F[show_idx, :].T,\n",
    "              color='red',\n",
    "              length=1,\n",
    "              label=r'$\\mathbf{F}(\\mathbf{v}(t, s))$',\n",
    "              zorder=1)\n",
    "    ax.quiver(*V[show_idx, :].T,\n",
    "          *n[show_idx, :].T,\n",
    "          color='black',\n",
    "          normalize=True,\n",
    "          length=1,\n",
    "          label=r'$\\mathbf{n}$',\n",
    "          zorder=2)\n",
    "    ax = add_coordinate_frame(ax)\n",
    "    ax.legend()\n",
    "    ax.view_init(20, 120)\n",
    "    ax.set(xlabel='x', ylabel='y', zlabel='z')\n",
    "    ax.set_axis_off()\n",
    "    fig.tight_layout()\n",
    "    plt.show()\n",
    "    fname = '03-vector-field-across-sampled-surface-quiver.png'\n",
    "    # fig.savefig(os.path.join('figures', fname), dpi=300)"
   ]
  },
  {
   "cell_type": "code",
   "execution_count": null,
   "id": "66f6795c-b9d9-4e81-964f-0cd2b4530078",
   "metadata": {},
   "outputs": [],
   "source": [
    "# compute \"normalized\" vector field F across the surface v\n",
    "\n",
    "Fn = np.sum(F * n, axis=1)"
   ]
  },
  {
   "cell_type": "code",
   "execution_count": null,
   "id": "eb67c6ca-6899-47c8-ba58-10e6b215ec31",
   "metadata": {},
   "outputs": [],
   "source": [
    "with set_defense_context():\n",
    "    fig = plt.figure(figsize=(5, 4))\n",
    "    ax = plt.axes(projection ='3d')\n",
    "    ax = add_coordinate_frame(ax)\n",
    "    cs = ax.scatter(*V.T, s=1, c=Fn)\n",
    "    cbar = fig.colorbar(cs, shrink=0.5, pad=0.01)\n",
    "    cbar.ax.set_ylabel(r'$\\mathbf{F} \\cdot \\mathbf{n}$')\n",
    "    ax.view_init(20, 120)\n",
    "    ax.set(xlabel='x', ylabel='y', zlabel='z')\n",
    "    ax.set_axis_off()\n",
    "    fig.tight_layout()\n",
    "    plt.show()\n",
    "    fname = '03-vector-field-across-sampled-surface-normalized.png'\n",
    "    # fig.savefig(os.path.join('figures', fname), dpi=300)"
   ]
  },
  {
   "cell_type": "code",
   "execution_count": null,
   "id": "a00977a4-deeb-4972-bc75-f2d079066ba9",
   "metadata": {},
   "outputs": [],
   "source": [
    "with set_defense_context():\n",
    "    fig = plt.figure(figsize=(4, 3))\n",
    "    ax = plt.axes()\n",
    "    cs = ax.scatter(T.ravel(), S.ravel(), s=2, c=Fn)\n",
    "    cbar = fig.colorbar(cs)\n",
    "    cbar.ax.set_ylabel(r'$\\mathbf{F} \\cdot \\mathbf{n}$')\n",
    "    ax.set(xlabel='$t$', ylabel='$s$', aspect='equal')\n",
    "    fig.tight_layout()\n",
    "    plt.show()\n",
    "    fname = '03-vector-field-across-parametric-surface-normalized.png'\n",
    "    # fig.savefig(os.path.join('figures', fname), dpi=300)"
   ]
  },
  {
   "cell_type": "markdown",
   "id": "4ea73bf4-97cf-42d7-bddf-2e170e7b7cde",
   "metadata": {},
   "source": [
    "# Normals derived via spline interpolant"
   ]
  },
  {
   "cell_type": "code",
   "execution_count": null,
   "id": "44c78164-dcd2-48a2-aa14-8da01a741478",
   "metadata": {},
   "outputs": [],
   "source": [
    "# point cloud representation from scattered parametric surface\n",
    "\n",
    "x, y, z = V.T"
   ]
  },
  {
   "cell_type": "code",
   "execution_count": null,
   "id": "9348d3bf-48b5-466d-97fe-99f843cf02fc",
   "metadata": {},
   "outputs": [],
   "source": [
    "# B-spline interpolation\n",
    "\n",
    "interpolator = interpolate.SmoothBivariateSpline(x, y, z)\n",
    "z_interp = interpolator(x, y, grid=False)"
   ]
  },
  {
   "cell_type": "code",
   "execution_count": null,
   "id": "8e52eea5-c823-4222-ba00-697fe8d21bec",
   "metadata": {},
   "outputs": [],
   "source": [
    "with set_defense_context():\n",
    "    fig = plt.figure(figsize=(4, 4))\n",
    "    ax = plt.axes(projection ='3d')\n",
    "    ax.scatter(x, y, z_interp, color='b', s=1, depthshade=True)\n",
    "    ax = add_coordinate_frame(ax)\n",
    "    ax.view_init(20, 120)\n",
    "    ax.set(xlabel='x', ylabel='y', zlabel='z')\n",
    "    ax.set_axis_off()\n",
    "    fig.tight_layout()\n",
    "    plt.show()"
   ]
  },
  {
   "cell_type": "code",
   "execution_count": null,
   "id": "5f75bdc0-67af-4750-8d50-0fa8e360dbd1",
   "metadata": {},
   "outputs": [],
   "source": [
    "# interpolation error\n",
    "\n",
    "z_ae = np.abs(z_interp - z)\n",
    "z_mape = np.mean(z_ae / z) * 100"
   ]
  },
  {
   "cell_type": "code",
   "execution_count": null,
   "id": "c81ae68c-9a41-4f88-8b01-d743a90d1055",
   "metadata": {},
   "outputs": [],
   "source": [
    "with set_defense_context():\n",
    "    fig = plt.figure(figsize=(4, 3))\n",
    "    ax = plt.axes()\n",
    "    cs = ax.imshow(z_ae.reshape(51, 51),\n",
    "                   extent=[t_a, t_b, s_a, s_b],\n",
    "                   aspect='equal', origin='lower',\n",
    "                   interpolation='bicubic')\n",
    "    cbar = fig.colorbar(cs)\n",
    "    cbar.ax.set_ylabel(r'$|\\varepsilon(z, z_i)|$')\n",
    "    ax.set(xlabel='$t$', ylabel='$s$')\n",
    "    ax.set(xlabel='$t$', ylabel='$s$', title=f'MAPE = {z_mape:.2g}\\%')\n",
    "    plt.show()\n",
    "    fname = '03-interpolation-error-parametric-surface.png'\n",
    "    # fig.savefig(os.path.join('figures', fname), dpi=300)"
   ]
  },
  {
   "cell_type": "code",
   "execution_count": null,
   "id": "8307ace5-4c30-4985-b988-276e465043d3",
   "metadata": {},
   "outputs": [],
   "source": [
    "# compute unit normals from partial derivatives of interpolation of z\n",
    "\n",
    "dzdx_interp = interpolator(x, y, dx=1, dy=0, grid=False)\n",
    "dzdy_interp = interpolator(x, y, dx=0, dy=1, grid=False)\n",
    "n_interp = np.c_[-dzdx_interp,\n",
    "                 -dzdy_interp,\n",
    "                 np.ones_like(dzdy_interp)]\n",
    "np.all(np.isclose(n, n_interp))"
   ]
  },
  {
   "cell_type": "code",
   "execution_count": null,
   "id": "f01fe967-1560-43d1-9201-bad1f83a3887",
   "metadata": {},
   "outputs": [],
   "source": [
    "# error of the magnitudes of analytically computed and estimated normals\n",
    "\n",
    "n_mag = np.linalg.norm(n, axis=1)\n",
    "n_interp_mag = np.linalg.norm(n_interp, axis=1)\n",
    "n_ae = np.abs(n_interp_mag-n_mag)\n",
    "n_mape = np.mean(n_ae / n_mag) * 100"
   ]
  },
  {
   "cell_type": "code",
   "execution_count": null,
   "id": "ce6ee892-463a-4673-94b1-50337533198e",
   "metadata": {},
   "outputs": [],
   "source": [
    "with set_defense_context():\n",
    "    fig = plt.figure(figsize=(4, 3))\n",
    "    ax = plt.axes()\n",
    "    cs = ax.imshow(np.abs(n_interp_mag-n_mag).reshape(51, 51),\n",
    "                   extent=[t_a, t_b, s_a, s_b],\n",
    "                   aspect='equal', origin='lower',\n",
    "                   interpolation='bicubic')\n",
    "    cbar = fig.colorbar(cs)\n",
    "    cbar.ax.set_ylabel(r'$|\\varepsilon(\\mathbf{n}, \\mathbf{n}_i)|$')\n",
    "    ax.set(xlabel='$t$', ylabel='$s$', title=f'MAPE = {n_mape:.2g}\\%')\n",
    "    plt.show()\n",
    "    fname = '03-interpolation-error-normals.png'\n",
    "    # fig.savefig(os.path.join('figures', fname), dpi=300)"
   ]
  },
  {
   "cell_type": "code",
   "execution_count": null,
   "id": "96fe6cef-b6b5-401d-b2f3-312ee38205e6",
   "metadata": {},
   "outputs": [],
   "source": []
  }
 ],
 "metadata": {
  "kernelspec": {
   "display_name": "Python 3 (ipykernel)",
   "language": "python",
   "name": "python3"
  },
  "language_info": {
   "codemirror_mode": {
    "name": "ipython",
    "version": 3
   },
   "file_extension": ".py",
   "mimetype": "text/x-python",
   "name": "python",
   "nbconvert_exporter": "python",
   "pygments_lexer": "ipython3",
   "version": "3.9.16"
  }
 },
 "nbformat": 4,
 "nbformat_minor": 5
}
