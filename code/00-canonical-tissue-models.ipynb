{
 "cells": [
  {
   "cell_type": "code",
   "execution_count": null,
   "id": "86e47145-8df8-4999-8cec-2107be528963",
   "metadata": {},
   "outputs": [],
   "source": [
    "import itertools\n",
    "import os\n",
    "\n",
    "import matplotlib.pyplot as plt\n",
    "from mpl_toolkits.mplot3d.art3d import Poly3DCollection\n",
    "import numpy as np\n",
    "import pandas as pd\n",
    "from scipy import spatial\n",
    "\n",
    "from utils import estimate_normals, normals_to_rgb, sph2cart\n",
    "from plotting import set_axes_equal, set_defense_context, draw_unit_cube"
   ]
  },
  {
   "cell_type": "code",
   "execution_count": null,
   "id": "9f8bfb1e-a7cd-4b9b-bd29-8b01c68c612f",
   "metadata": {},
   "outputs": [],
   "source": [
    "%config InlineBackend.figure_format = 'retina'"
   ]
  },
  {
   "cell_type": "markdown",
   "id": "f3d52707-453c-46b6-a603-5f195ec99ff5",
   "metadata": {},
   "source": [
    "# Planar model"
   ]
  },
  {
   "cell_type": "markdown",
   "id": "04c47885-7726-4ae4-92a3-f4f5e51237ee",
   "metadata": {},
   "source": [
    "Figure 2. Skin models for dosimetry analysis: (a) skin models with  different tissue compositions; (b) exposure condition.\n",
    "\n",
    "K. Li et al., \"Intercomparison of Calculated Incident Power Density and Temperature Rise for Exposure From Different Antennas at 10–90 GHz,\" in IEEE Access, vol. 9, pp. 151654-151666, 2021, doi: 10.1109/ACCESS.2021.3126738."
   ]
  },
  {
   "cell_type": "markdown",
   "id": "75b7e717-0010-4838-a89b-ca9c3b55417e",
   "metadata": {},
   "source": [
    "# Spherical model"
   ]
  },
  {
   "cell_type": "code",
   "execution_count": null,
   "id": "6c10c908-6154-455e-b896-21094d64ad22",
   "metadata": {},
   "outputs": [],
   "source": [
    "# generate linearly spaced point cloud in spherical coordinates\n",
    "\n",
    "r = 1\n",
    "theta = np.linspace(0, 2 * np.pi, 31)\n",
    "phi = np.linspace(0, np.pi, 13)\n",
    "Theta, Phi = np.meshgrid(theta, phi)\n",
    "x, y, z = sph2cart(r, Theta.ravel(), Phi.ravel())\n",
    "xyz = np.c_[x, y, z]"
   ]
  },
  {
   "cell_type": "code",
   "execution_count": null,
   "id": "22743995-8cd7-431e-828d-0a3b38406f14",
   "metadata": {},
   "outputs": [],
   "source": [
    "# create convex hull and extract the surface area\n",
    "\n",
    "hull = spatial.ConvexHull(xyz)\n",
    "A_hull = hull.area\n",
    "print(f'A = {A_hull:.6f}')"
   ]
  },
  {
   "cell_type": "code",
   "execution_count": null,
   "id": "748aa4a0-00bd-47df-af0b-53458fe20584",
   "metadata": {},
   "outputs": [],
   "source": [
    "# estimate normals\n",
    "\n",
    "n = estimate_normals(xyz, orient=True)"
   ]
  },
  {
   "cell_type": "code",
   "execution_count": null,
   "id": "052e3e4d-5932-440d-a877-86f5f89ff191",
   "metadata": {},
   "outputs": [],
   "source": [
    "# visualize normals as arrows\n",
    "\n",
    "with set_defense_context():\n",
    "    fig = plt.figure(figsize=(3, 3), constrained_layout=True)\n",
    "    ax = plt.axes(projection ='3d')\n",
    "    ax.scatter(*xyz.T, c='k', s=0.5)\n",
    "    ax.quiver(*xyz.T, *n.T, color='k', length=0.25, lw=0.5)\n",
    "    hull_triangle_coords = hull.points[hull.simplices]\n",
    "    triangles = Poly3DCollection(hull_triangle_coords,\n",
    "                                 ec='k', fc='gray', lw=0.25, alpha=0.25)\n",
    "    ax.add_collection3d(triangles)\n",
    "    ax.view_init(30, 60)\n",
    "    ax.set_box_aspect([1, 1, 1])\n",
    "    ax = set_axes_equal(ax)\n",
    "    ax.set_axis_off()\n",
    "    plt.show()\n",
    "    fname = '00-spherical-tissue-model-quiver.png'\n",
    "    # fig.savefig(os.path.join('figures', fname), dpi=500, bbox_inches='tight')"
   ]
  },
  {
   "cell_type": "code",
   "execution_count": null,
   "id": "25c7a87e-9de5-4ca6-8b97-c6c7b1083374",
   "metadata": {},
   "outputs": [],
   "source": [
    "# convert arrows to rgb cube\n",
    "\n",
    "c = normals_to_rgb(n)\n",
    "\n",
    "with set_defense_context():\n",
    "    fig = plt.figure(figsize=(3, 3), constrained_layout=True)\n",
    "    ax = plt.axes(projection ='3d')\n",
    "    s = ax.scatter(*xyz.T, c=c, s=10)\n",
    "    ax.view_init(30, 60)\n",
    "    ax.set_box_aspect([1, 1, 1])\n",
    "    ax = set_axes_equal(ax)\n",
    "    ax.set_axis_off()\n",
    "    plt.show()\n",
    "    fname = '00-spherical-tissue-model-rgb.png'\n",
    "    # fig.savefig(os.path.join('figures', fname), dpi=500, bbox_inches='tight')"
   ]
  },
  {
   "cell_type": "markdown",
   "id": "372959f4-f89d-4495-8fd3-c7160e0e7462",
   "metadata": {},
   "source": [
    "# Cylindrical model"
   ]
  },
  {
   "cell_type": "code",
   "execution_count": null,
   "id": "8ca11acc-2d5e-4e5c-8433-5bf8e4cfde6f",
   "metadata": {},
   "outputs": [],
   "source": [
    "# generate linearly spaced point cloud in polar coordinates\n",
    "n = 24\n",
    "assert n % 3 == 0, 'n must be divisible by 3'\n",
    "t = np.linspace(0, 2 * np.pi, n, endpoint=False)\n",
    "x = r * np.cos(t)\n",
    "y = r * np.sin(t)\n",
    "xy = np.c_[x, y]\n",
    "xyz = np.c_[np.repeat(xy, int(n/3), axis=0),\n",
    "      np.tile(np.linspace(-1, 1, int(n/3)), n)]"
   ]
  },
  {
   "cell_type": "code",
   "execution_count": null,
   "id": "c15037e0-f806-4922-af13-befd62715077",
   "metadata": {},
   "outputs": [],
   "source": [
    "# create smooth spherical surface\n",
    "\n",
    "hull = spatial.ConvexHull(xyz)\n",
    "A_hull = hull.area\n",
    "print(f'A = {A_hull:.6f}')"
   ]
  },
  {
   "cell_type": "code",
   "execution_count": null,
   "id": "b013c845-f1d5-4fe3-964c-4ed9c88cefba",
   "metadata": {},
   "outputs": [],
   "source": [
    "# estimate normals\n",
    "\n",
    "n = estimate_normals(xyz, orient=True)"
   ]
  },
  {
   "cell_type": "code",
   "execution_count": null,
   "id": "823d9100-72a1-4daf-9516-6781b3bffc3a",
   "metadata": {},
   "outputs": [],
   "source": [
    "# visualize normals as arrows\n",
    "\n",
    "with set_defense_context():\n",
    "    fig = plt.figure(figsize=(3, 3), constrained_layout=True)\n",
    "    ax = plt.axes(projection ='3d')\n",
    "    ax.scatter(*xyz.T, c='k', s=0.5)\n",
    "    ax.quiver(*xyz.T, *n.T, color='k', length=0.25, lw=0.5)\n",
    "    hull_triangle_coords = hull.points[hull.simplices]\n",
    "    triangles = Poly3DCollection(hull_triangle_coords,\n",
    "                                 ec='k', fc='gray', lw=0.25, alpha=0.25)\n",
    "    ax.add_collection3d(triangles)\n",
    "    ax.view_init(30, 60)\n",
    "    ax.set_box_aspect([1, 1, 1])\n",
    "    ax = set_axes_equal(ax)\n",
    "    ax.set_axis_off()\n",
    "    fig.tight_layout()\n",
    "    plt.show()\n",
    "    fname = '00-cylindrical-tissue-model-quiver.png'\n",
    "    # fig.savefig(os.path.join('figures', fname), dpi=500, bbox_inches='tight')"
   ]
  },
  {
   "cell_type": "code",
   "execution_count": null,
   "id": "4552907a-6eca-47b2-a236-9d5af6804a74",
   "metadata": {},
   "outputs": [],
   "source": [
    "# convert arrows to rgb cube\n",
    "\n",
    "c = normals_to_rgb(n)\n",
    "\n",
    "with set_defense_context():\n",
    "    fig = plt.figure(figsize=(3, 3), constrained_layout=True)\n",
    "    ax = plt.axes(projection ='3d')\n",
    "    s = ax.scatter(*xyz.T, c=c, s=10)\n",
    "    ax.view_init(30, 60)\n",
    "    ax.set_box_aspect([1, 1, 1])\n",
    "    ax = set_axes_equal(ax)\n",
    "    ax.set_axis_off()\n",
    "    plt.show()\n",
    "    fname = '00-cylindrical-tissue-model-rgb.png'\n",
    "    # fig.savefig(os.path.join('figures', fname), dpi=500, bbox_inches='tight')"
   ]
  },
  {
   "cell_type": "markdown",
   "id": "41d4f5c1-9373-47de-9380-de4db2618547",
   "metadata": {},
   "source": [
    "# RGB cube encoding normals"
   ]
  },
  {
   "cell_type": "code",
   "execution_count": null,
   "id": "83c6c01a-08b5-43ef-ba54-5b3c48b8fc20",
   "metadata": {},
   "outputs": [],
   "source": [
    "# set up coloring\n",
    "\n",
    "pts = np.array(list(itertools.product([0, 1], repeat=3)))\n",
    "cs = ['black', 'blue', 'green', 'cyan', 'red', 'magenta', 'yellow', 'white']\n",
    "pairs = pd.DataFrame(data=pts, columns=['x', 'y', 'z'])\n",
    "pairs['cs'] = cs"
   ]
  },
  {
   "cell_type": "code",
   "execution_count": null,
   "id": "bbe7fa52-3077-4def-abe7-685e27353708",
   "metadata": {},
   "outputs": [],
   "source": [
    "with set_defense_context():\n",
    "    fig = plt.figure(figsize=(2, 2), constrained_layout=True)\n",
    "    ax = plt.axes(projection ='3d')\n",
    "    ax = draw_unit_cube(ax)\n",
    "    ax.scatter(*pts.T, c=cs, edgecolor='k', depthshade=False, s=400)\n",
    "    ax.view_init(30, 60)\n",
    "    ax.set_box_aspect([1, 1, 1])\n",
    "    ax = set_axes_equal(ax)\n",
    "    ax.set_axis_off()\n",
    "    fig.tight_layout()\n",
    "    plt.show()\n",
    "    fname = '00-rgb-cube.png'\n",
    "    # fig.savefig(os.path.join('figures', fname), dpi=500, bbox_inches='tight')"
   ]
  },
  {
   "cell_type": "code",
   "execution_count": null,
   "id": "0ad40bd3-bdd1-4c7e-857d-08efd88727a4",
   "metadata": {},
   "outputs": [],
   "source": []
  }
 ],
 "metadata": {
  "kernelspec": {
   "display_name": "Python 3 (ipykernel)",
   "language": "python",
   "name": "python3"
  },
  "language_info": {
   "codemirror_mode": {
    "name": "ipython",
    "version": 3
   },
   "file_extension": ".py",
   "mimetype": "text/x-python",
   "name": "python",
   "nbconvert_exporter": "python",
   "pygments_lexer": "ipython3",
   "version": "3.9.16"
  }
 },
 "nbformat": 4,
 "nbformat_minor": 5
}
