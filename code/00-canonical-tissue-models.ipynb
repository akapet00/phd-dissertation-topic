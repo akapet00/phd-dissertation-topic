{
 "cells": [
  {
   "cell_type": "code",
   "execution_count": null,
   "id": "86e47145-8df8-4999-8cec-2107be528963",
   "metadata": {},
   "outputs": [],
   "source": [
    "import os\n",
    "\n",
    "import matplotlib.pyplot as plt\n",
    "from mpl_toolkits.mplot3d.art3d import Poly3DCollection\n",
    "import numpy as np\n",
    "from scipy import spatial\n",
    "\n",
    "from src.coordinates import sph_to_cart\n",
    "from src.mappings import encode_normals_rgb\n",
    "from src.normals import estim_normals_pca\n",
    "from src.orientation import orient_normals_cvx\n",
    "from src.plotting import set_defense_context, set_axes_equal, draw_unit_cube"
   ]
  },
  {
   "cell_type": "code",
   "execution_count": null,
   "id": "9f8bfb1e-a7cd-4b9b-bd29-8b01c68c612f",
   "metadata": {},
   "outputs": [],
   "source": [
    "%config InlineBackend.figure_format = 'retina'"
   ]
  },
  {
   "cell_type": "code",
   "execution_count": null,
   "id": "9606ccbd-14b0-44d4-99f0-06ebda9aa1e6",
   "metadata": {},
   "outputs": [],
   "source": [
    "# constants\n",
    "\n",
    "elev, azim = 30, 60  # 3-D view\n",
    "r = 1  # fixed radius"
   ]
  },
  {
   "cell_type": "markdown",
   "id": "f3d52707-453c-46b6-a603-5f195ec99ff5",
   "metadata": {},
   "source": [
    "# Planar model"
   ]
  },
  {
   "cell_type": "markdown",
   "id": "04c47885-7726-4ae4-92a3-f4f5e51237ee",
   "metadata": {},
   "source": [
    "Figure 2. Skin models for dosimetry analysis: (a) skin models with  different tissue compositions; (b) exposure condition.\n",
    "\n",
    "K. Li et al., \"Intercomparison of Calculated Incident Power Density and Temperature Rise for Exposure From Different Antennas at 10–90 GHz,\" in IEEE Access, vol. 9, pp. 151654-151666, 2021, doi: 10.1109/ACCESS.2021.3126738."
   ]
  },
  {
   "cell_type": "markdown",
   "id": "596fc93b-49ee-49b7-b647-f44596f369fa",
   "metadata": {},
   "source": [
    "# Non-planar canonical tissue models"
   ]
  },
  {
   "cell_type": "markdown",
   "id": "d3ee9507-7548-456a-a0fb-ec4dd6aba148",
   "metadata": {},
   "source": [
    "Figure 2. Definitions of the integration volumes for the different absorbed power density calculation schemes. (a) Scheme 1; (b) scheme 2; (c) scheme 3 and (d) scheme 4.\n",
    "\n",
    "Y. Diao et al., \"Assessment of absorbed power density and temperature rise for nonplanar body model under electromagnetic exposure above 6 GHz,\" in Physics in Medicine & Biology, vol. 65, pp. 224001, 2020, doi: 10.1088/1361-6560/abbdb7.\n",
    "\n",
    "**Note**.\n",
    "For practical implementation of the spatially averaged APD in voxel models used in the study, the volumetric integral definition of the APD was adopted.\n",
    "Four different calculation schemes for the spatially averaged APD for non-planar models are employed.\n",
    "The bounds of the integration volumes are represented by red polygons.\n",
    "In subfigures a & b, the upper bound, (L1) is parallel to the grid axis.\n",
    "In subfigures c & d, L1 is bent along the exposed surface.\n",
    "In subfigures a & c, side bounds (L2, L3) are parallel to the grid axis, whereas in subfigures b & d, L2\n",
    "and L3 are parallel to the internal electric field gradients at the model surface.\n",
    "The lower bound of the integration volume (L4), is defined as the contour where the electric field strength is 1/1000 of the\n",
    "maximum value in the integration volume."
   ]
  },
  {
   "cell_type": "markdown",
   "id": "75b7e717-0010-4838-a89b-ca9c3b55417e",
   "metadata": {},
   "source": [
    "## Spherical model"
   ]
  },
  {
   "cell_type": "code",
   "execution_count": null,
   "id": "6c10c908-6154-455e-b896-21094d64ad22",
   "metadata": {},
   "outputs": [],
   "source": [
    "# generate linearly spaced point cloud in the spherical coordinate system\n",
    "\n",
    "Theta, Phi = np.mgrid[0:2*np.pi:33j,\n",
    "                      0:np.pi:11j]\n",
    "x, y, z = sph_to_cart(r, Theta.ravel(), Phi.ravel())\n",
    "xyz = np.c_[x, y, z]"
   ]
  },
  {
   "cell_type": "code",
   "execution_count": null,
   "id": "22743995-8cd7-431e-828d-0a3b38406f14",
   "metadata": {},
   "outputs": [],
   "source": [
    "# create a convex hull and extract the surface area of a sphere\n",
    "\n",
    "hull = spatial.ConvexHull(xyz)\n",
    "print(f'A = {hull.area:.6f}')"
   ]
  },
  {
   "cell_type": "code",
   "execution_count": null,
   "id": "748aa4a0-00bd-47df-af0b-53458fe20584",
   "metadata": {},
   "outputs": [],
   "source": [
    "# estimate normals and orient them to point away from the surface\n",
    "\n",
    "n = estim_normals_pca(xyz, k=10)\n",
    "n = orient_normals_cvx(xyz, n)\n",
    "c = encode_normals_rgb(n)"
   ]
  },
  {
   "cell_type": "code",
   "execution_count": null,
   "id": "052e3e4d-5932-440d-a877-86f5f89ff191",
   "metadata": {},
   "outputs": [],
   "source": [
    "with set_defense_context():\n",
    "    fig = plt.figure(figsize=(3, 3), constrained_layout=True)\n",
    "    ax = plt.axes(projection ='3d')\n",
    "    ax.scatter(*xyz.T, c='k', s=0.5)\n",
    "    ax.quiver(*xyz.T, *n.T, color='k', length=0.35, lw=0.5)\n",
    "    hull_triangle_coords = hull.points[hull.simplices]\n",
    "    triangles = Poly3DCollection(hull_triangle_coords,\n",
    "                                 ec='gray', fc='gray', lw=0.25, alpha=0.25)\n",
    "    ax.add_collection3d(triangles)\n",
    "    ax.view_init(elev, azim)\n",
    "    ax.set_box_aspect([1, 1, 1])\n",
    "    ax = set_axes_equal(ax)\n",
    "    ax.set_axis_off()\n",
    "    plt.show()\n",
    "    fname = 'sphere-quiver.png'\n",
    "    fig.savefig(os.path.join('figures', 'model', fname),\n",
    "                dpi=300, bbox_inches='tight')"
   ]
  },
  {
   "cell_type": "code",
   "execution_count": null,
   "id": "25c7a87e-9de5-4ca6-8b97-c6c7b1083374",
   "metadata": {},
   "outputs": [],
   "source": [
    "with set_defense_context():\n",
    "    fig = plt.figure(figsize=(3, 3), constrained_layout=True)\n",
    "    ax = plt.axes(projection ='3d')\n",
    "    s = ax.scatter(*xyz.T, c=c, ec='k', lw=0.5, s=20)\n",
    "    ax.view_init(elev, azim)\n",
    "    ax.set_box_aspect([1, 1, 1])\n",
    "    ax = set_axes_equal(ax)\n",
    "    ax.set_axis_off()\n",
    "    plt.show()\n",
    "    fname = 'sphere-rgb.png'\n",
    "    fig.savefig(os.path.join('figures', 'model', fname),\n",
    "                dpi=300, bbox_inches='tight')"
   ]
  },
  {
   "cell_type": "markdown",
   "id": "372959f4-f89d-4495-8fd3-c7160e0e7462",
   "metadata": {},
   "source": [
    "# Cylindrical model"
   ]
  },
  {
   "cell_type": "code",
   "execution_count": null,
   "id": "8ca11acc-2d5e-4e5c-8433-5bf8e4cfde6f",
   "metadata": {},
   "outputs": [],
   "source": [
    "# generate linearly spaced point cloud in polar coordinates\n",
    "\n",
    "n = 33\n",
    "assert n % 3 == 0, 'n must be divisible by 3'\n",
    "t = np.linspace(0, 2 * np.pi, n, endpoint=False)\n",
    "x = r * np.cos(t)\n",
    "y = r * np.sin(t)\n",
    "xy = np.c_[x, y]\n",
    "xyz = np.c_[np.repeat(xy, int(n/3), axis=0),\n",
    "      np.tile(np.linspace(-0.85, 0.85, int(n/3)), n)]"
   ]
  },
  {
   "cell_type": "code",
   "execution_count": null,
   "id": "c15037e0-f806-4922-af13-befd62715077",
   "metadata": {},
   "outputs": [],
   "source": [
    "# create smooth spherical surface\n",
    "\n",
    "hull = spatial.ConvexHull(xyz)\n",
    "A_hull = hull.area\n",
    "print(f'A = {A_hull:.6f}')"
   ]
  },
  {
   "cell_type": "code",
   "execution_count": null,
   "id": "b013c845-f1d5-4fe3-964c-4ed9c88cefba",
   "metadata": {},
   "outputs": [],
   "source": [
    "# estimate normals\n",
    "\n",
    "n = estim_normals_pca(xyz, k=10)\n",
    "n = orient_normals_cvx(xyz, n)\n",
    "c = encode_normals_rgb(n)"
   ]
  },
  {
   "cell_type": "code",
   "execution_count": null,
   "id": "823d9100-72a1-4daf-9516-6781b3bffc3a",
   "metadata": {},
   "outputs": [],
   "source": [
    "with set_defense_context():\n",
    "    fig = plt.figure(figsize=(3, 3), constrained_layout=True)\n",
    "    ax = plt.axes(projection ='3d')\n",
    "    ax.scatter(*xyz.T, c='k', s=0.5)\n",
    "    ax.quiver(*xyz.T, *n.T, color='k', length=0.35, lw=0.5)\n",
    "    hull_triangle_coords = hull.points[hull.simplices]\n",
    "    triangles = Poly3DCollection(hull_triangle_coords,\n",
    "                                 ec='gray', fc='gray', lw=0.25, alpha=0.25)\n",
    "    ax.add_collection3d(triangles)\n",
    "    ax.view_init(elev, azim)\n",
    "    ax.set_box_aspect([1, 1, 1])\n",
    "    ax = set_axes_equal(ax)\n",
    "    ax.set_axis_off()\n",
    "    plt.show()\n",
    "    fname = 'cylinder-quiver.png'\n",
    "    fig.savefig(os.path.join('figures', 'model', fname),\n",
    "                dpi=300, bbox_inches='tight')"
   ]
  },
  {
   "cell_type": "code",
   "execution_count": null,
   "id": "4552907a-6eca-47b2-a236-9d5af6804a74",
   "metadata": {},
   "outputs": [],
   "source": [
    "with set_defense_context():\n",
    "    fig = plt.figure(figsize=(3, 3), constrained_layout=True)\n",
    "    ax = plt.axes(projection ='3d')\n",
    "    s = ax.scatter(*xyz.T, c=c, ec='k', lw=0.5, s=25)\n",
    "    ax.view_init(elev, azim)\n",
    "    ax.set_box_aspect([1, 1, 1])\n",
    "    ax = set_axes_equal(ax)\n",
    "    ax.set_axis_off()\n",
    "    plt.show()\n",
    "    fname = 'cylinder-rgb.png'\n",
    "    fig.savefig(os.path.join('figures', 'model', fname),\n",
    "                dpi=300, bbox_inches='tight')"
   ]
  },
  {
   "cell_type": "markdown",
   "id": "41d4f5c1-9373-47de-9380-de4db2618547",
   "metadata": {},
   "source": [
    "# RGB cube encoding normals"
   ]
  },
  {
   "cell_type": "code",
   "execution_count": null,
   "id": "0ad40bd3-bdd1-4c7e-857d-08efd88727a4",
   "metadata": {},
   "outputs": [],
   "source": [
    "with set_defense_context():\n",
    "    fig = plt.figure(figsize=(2, 2), constrained_layout=False)\n",
    "    ax = plt.axes(projection ='3d')\n",
    "    ax = draw_unit_cube(ax)\n",
    "    ax.view_init(elev, azim)\n",
    "    ax.set_box_aspect([1, 1, 1])\n",
    "    ax.set(xlim=[-0.15, 1.15],\n",
    "           ylim=[-0.15, 1.15],\n",
    "           zlim=[-0.15, 1.15])\n",
    "    ax = set_axes_equal(ax)\n",
    "    ax.set_axis_off()\n",
    "    plt.show()\n",
    "    fname = 'rgb-cube.png'\n",
    "    fig.savefig(os.path.join('figures', 'model', fname),\n",
    "                dpi=300, bbox_inches='tight')"
   ]
  },
  {
   "cell_type": "code",
   "execution_count": null,
   "id": "b17c20db-c1fc-4f27-ac1e-6aa175969b26",
   "metadata": {},
   "outputs": [],
   "source": []
  }
 ],
 "metadata": {
  "kernelspec": {
   "display_name": "Python 3 (ipykernel)",
   "language": "python",
   "name": "python3"
  },
  "language_info": {
   "codemirror_mode": {
    "name": "ipython",
    "version": 3
   },
   "file_extension": ".py",
   "mimetype": "text/x-python",
   "name": "python",
   "nbconvert_exporter": "python",
   "pygments_lexer": "ipython3",
   "version": "3.9.16"
  }
 },
 "nbformat": 4,
 "nbformat_minor": 5
}
