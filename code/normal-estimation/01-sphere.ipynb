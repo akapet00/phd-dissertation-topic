{
 "cells": [
  {
   "cell_type": "code",
   "execution_count": null,
   "id": "86e47145-8df8-4999-8cec-2107be528963",
   "metadata": {},
   "outputs": [],
   "source": [
    "import itertools\n",
    "\n",
    "import matplotlib.pyplot as plt\n",
    "from mpl_toolkits.mplot3d.art3d import Poly3DCollection\n",
    "import numpy as np\n",
    "import pandas as pd\n",
    "from scipy import spatial\n",
    "\n",
    "from utils import estimate_normals, normals_to_rgb\n",
    "from plotting import set_axes_equal, set_defense_context, draw_unit_cube"
   ]
  },
  {
   "cell_type": "code",
   "execution_count": null,
   "id": "f2f4a35c-49a3-46e4-b88e-d502634e20f8",
   "metadata": {},
   "outputs": [],
   "source": [
    "def marsaglia(n_points, r=1.): \n",
    "    # Refs: Marsaglia, G., Ann. Math. Stat. 43:645-646, 1972\n",
    "    assert r > 0, 'radius must be a positive number'\n",
    "    a = np.random.uniform(-r, r, size=n_points)\n",
    "    b = np.random.uniform(-r, r, size=n_points)\n",
    "\n",
    "    mask = np.where(a ** 2 + b ** 2 < 1)\n",
    "    a = a[mask]\n",
    "    b = b[mask]\n",
    "\n",
    "    x = 2 * a * np.sqrt(1 - a ** 2 - b ** 2)\n",
    "    y = 2 * b * np.sqrt(1 - a ** 2 - b ** 2)\n",
    "    z = 1 - 2 * (a ** 2 + b ** 2)\n",
    "    return np.stack((x, y, z), axis=-1)"
   ]
  },
  {
   "cell_type": "code",
   "execution_count": null,
   "id": "6c10c908-6154-455e-b896-21094d64ad22",
   "metadata": {},
   "outputs": [],
   "source": [
    "# generate random point cloud\n",
    "\n",
    "r = 1\n",
    "xyz = marsaglia(1000, r)"
   ]
  },
  {
   "cell_type": "code",
   "execution_count": null,
   "id": "22743995-8cd7-431e-828d-0a3b38406f14",
   "metadata": {},
   "outputs": [],
   "source": [
    "# create convex hull and extract the surface area\n",
    "\n",
    "hull = spatial.ConvexHull(xyz)\n",
    "A_hull = hull.area\n",
    "print(f'A = {A_hull:.6f}')"
   ]
  },
  {
   "cell_type": "code",
   "execution_count": null,
   "id": "748aa4a0-00bd-47df-af0b-53458fe20584",
   "metadata": {},
   "outputs": [],
   "source": [
    "# estimate normals\n",
    "\n",
    "n = estimate_normals(xyz)"
   ]
  },
  {
   "cell_type": "code",
   "execution_count": null,
   "id": "052e3e4d-5932-440d-a877-86f5f89ff191",
   "metadata": {},
   "outputs": [],
   "source": [
    "# visualize normals as arrows\n",
    "\n",
    "with set_defense_context():\n",
    "    fig = plt.figure(figsize=(3, 3))\n",
    "    ax = plt.axes(projection ='3d')\n",
    "    ax.scatter(*xyz.T, c='k', s=0.5)\n",
    "    ax.quiver(*xyz.T, *n.T, color='k', length=0.25, lw=0.5)\n",
    "    hull_triangle_coords = hull.points[hull.simplices]\n",
    "    triangles = Poly3DCollection(hull_triangle_coords,\n",
    "                                 ec='k', fc='gray', lw=0.25, alpha=0.25)\n",
    "    ax.add_collection3d(triangles)\n",
    "    ax.view_init(30, 60)\n",
    "    ax.set_box_aspect([1, 1, 1])\n",
    "    ax = set_axes_equal(ax)\n",
    "    ax.set_axis_off()\n",
    "    fig.tight_layout()\n",
    "    plt.show()"
   ]
  },
  {
   "cell_type": "code",
   "execution_count": null,
   "id": "25c7a87e-9de5-4ca6-8b97-c6c7b1083374",
   "metadata": {},
   "outputs": [],
   "source": [
    "# convert arrows to rgb cube\n",
    "\n",
    "c = normals_to_rgb(n)\n",
    "\n",
    "with set_defense_context():\n",
    "    fig = plt.figure(figsize=(3, 3))\n",
    "    ax = plt.axes(projection ='3d')\n",
    "    s = ax.scatter(*xyz.T, c=c, s=10)\n",
    "    ax.view_init(30, 60)\n",
    "    ax.set_box_aspect([1, 1, 1])\n",
    "    ax = set_axes_equal(ax)\n",
    "    ax.set_axis_off()\n",
    "    fig.tight_layout()\n",
    "    plt.show()"
   ]
  },
  {
   "cell_type": "code",
   "execution_count": null,
   "id": "fb4de08a-d9a3-4e2b-bf0c-31d7c94b5e4c",
   "metadata": {},
   "outputs": [],
   "source": [
    "# rgb cube\n",
    "\n",
    "pts = np.array(list(itertools.product([0, 1], repeat=3)))\n",
    "cs = ['black', 'blue', 'green', 'cyan', 'red', 'magenta', 'yellow', 'white']\n",
    "pairs = pd.DataFrame(data=pts, columns=['x', 'y', 'z'])\n",
    "pairs['cs'] = cs\n",
    "\n",
    "with set_defense_context():\n",
    "    fig = plt.figure(figsize=(2, 2))\n",
    "    ax = plt.axes(projection ='3d')\n",
    "    ax = draw_unit_cube(ax)\n",
    "    ax.scatter(*pts.T, c=cs, edgecolor='k', depthshade=False, s=400)\n",
    "    ax.view_init(30, 60)\n",
    "    ax.set_box_aspect([1, 1, 1])\n",
    "    ax = set_axes_equal(ax)\n",
    "    ax.set_axis_off()\n",
    "    fig.tight_layout()\n",
    "    plt.show()"
   ]
  },
  {
   "cell_type": "code",
   "execution_count": null,
   "id": "ebbe47e2-142a-4768-9243-a356d13907a3",
   "metadata": {},
   "outputs": [],
   "source": []
  }
 ],
 "metadata": {
  "kernelspec": {
   "display_name": "Python 3 (ipykernel)",
   "language": "python",
   "name": "python3"
  },
  "language_info": {
   "codemirror_mode": {
    "name": "ipython",
    "version": 3
   },
   "file_extension": ".py",
   "mimetype": "text/x-python",
   "name": "python",
   "nbconvert_exporter": "python",
   "pygments_lexer": "ipython3",
   "version": "3.9.16"
  }
 },
 "nbformat": 4,
 "nbformat_minor": 5
}
