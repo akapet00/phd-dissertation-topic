{
 "cells": [
  {
   "cell_type": "code",
   "execution_count": null,
   "id": "577fc732-3d1f-42a2-a4c3-b5c2ccd55e5c",
   "metadata": {},
   "outputs": [],
   "source": [
    "import matplotlib.pyplot as plt\n",
    "import numpy as np\n",
    "from scipy import interpolate\n",
    "\n",
    "from plotting import set_defense_context"
   ]
  },
  {
   "cell_type": "code",
   "execution_count": null,
   "id": "f0f6944d-623a-4d57-8e27-4b92d6a44c2d",
   "metadata": {},
   "outputs": [],
   "source": [
    "def add_coordinate_frame(ax):\n",
    "    \"\"\"Set RGB coordinate frame to axes.\n",
    "    \n",
    "    Parameters\n",
    "    ----------\n",
    "    ax : matplotlib.axes._subplots.Axes3DSubplot\n",
    "        3-D axes subplot.\n",
    "    \n",
    "    Returns\n",
    "    -------\n",
    "    matplotlib.axes._subplots.Axes3DSubplot\n",
    "        Axes with coordinate frame.\n",
    "    \"\"\"\n",
    "    ax.quiver(-2.5, -1, -1.5, 0.75, 0, 0, lw=0.5, color='r')\n",
    "    ax.text(-1.35, -1, -1.5, s='$x$', color='r', fontweight='bold')\n",
    "    ax.quiver(-2.5, -1, -1.5, 0, 0.75, 0, lw=0.5, color='g')\n",
    "    ax.text(-2.5, +0.25, -1.5, s='$y$', color='g', fontweight='bold')\n",
    "    ax.quiver(-2.5, -1, -1.5, 0, 0, 0.75, lw=0.5, color='b')\n",
    "    ax.text(-2.5, -1, -0.5, s='$z$', color='b', fontweight='bold')\n",
    "    ax.scatter(-2.5, -1, -1.5, color='k', depthshade=False)\n",
    "    return ax"
   ]
  },
  {
   "cell_type": "code",
   "execution_count": null,
   "id": "b02197d2-ec6c-4092-b03d-71fedb396fd4",
   "metadata": {},
   "outputs": [],
   "source": [
    "def v(t, s):\n",
    "    \"\"\"Parametric surface in 3-D:\n",
    "    v(t, s) = (t + 1) i + (s) j + (s^2 - t^2 + 1) k\n",
    "    \"\"\"\n",
    "    return np.c_[t + 1,\n",
    "                 s,\n",
    "                 s ** 2 - t ** 2 + 1]\n",
    "\n",
    "def v_t(t, s):\n",
    "    \"\"\"First derivative of parametric surface, v, wrt t:\n",
    "    v_t(t, s) = i  + (-2 t) k\n",
    "    \"\"\"\n",
    "    return np.c_[np.ones_like(t),\n",
    "                 np.zeros_like(t),\n",
    "                 - 2 * t]\n",
    "\n",
    "def v_s(t, s):\n",
    "    \"\"\"First derivative of parametric surface, v, wrt s:\n",
    "    v_s(t, s) = j + (2 s) k\n",
    "    \"\"\"\n",
    "    return np.c_[np.zeros_like(s),\n",
    "                 np.ones_like(s),\n",
    "                 2 * s]\n",
    "\n",
    "def f(x, y, z):\n",
    "    \"\"\"Vector field that passes through V(t, s):\n",
    "    \"\"\"\n",
    "    return np.c_[np.ones_like(x),\n",
    "                 np.ones_like(y),\n",
    "                 np.ones_like(z)]\n",
    "\n",
    "I_exact = 16  # exact solution of flux of f-field through v-surface"
   ]
  },
  {
   "cell_type": "markdown",
   "id": "b3dcd42f-a5d7-4acb-b345-e59f09053bb5",
   "metadata": {},
   "source": [
    "# Analitically estimated normals"
   ]
  },
  {
   "cell_type": "code",
   "execution_count": null,
   "id": "b366e849-01f5-48ca-8245-cf89ba7f7a7f",
   "metadata": {},
   "outputs": [],
   "source": [
    "# integration domain\n",
    "t_a, t_b = -2, 2\n",
    "s_a, s_b = -2, 2\n",
    "\n",
    "# scattered points\n",
    "t = np.linspace(t_a, t_b, 51)\n",
    "s = np.linspace(s_a, s_b, 51)\n",
    "T, S = np.meshgrid(t, s)\n",
    "\n",
    "# scattered parametric surface\n",
    "V = v(T.ravel(), S.ravel())\n",
    "\n",
    "# visualization\n",
    "with set_defense_context():\n",
    "    fig = plt.figure(figsize=(4, 4))\n",
    "    ax = plt.axes(projection ='3d')\n",
    "    ax.plot(*V.T, 'bo', ms=1, alpha=0.5)\n",
    "    ax = add_coordinate_frame(ax)\n",
    "    ax.view_init(20, 120)\n",
    "    ax.set(xlabel='x', ylabel='y', zlabel='z')\n",
    "    ax.set_axis_off()\n",
    "    fig.tight_layout()\n",
    "    plt.show()"
   ]
  },
  {
   "cell_type": "code",
   "execution_count": null,
   "id": "d1ca918f-cee4-4b9e-ba1d-48b8f6c3871e",
   "metadata": {},
   "outputs": [],
   "source": [
    "# compute vector field F across the surface v\n",
    "x, y, z = V.T\n",
    "F = f(x, y, z)\n",
    "\n",
    "# visualization\n",
    "show_idx = np.random.randint(0, F.shape[0], size=21)\n",
    "with set_defense_context():\n",
    "    fig = plt.figure(figsize=(4, 4))\n",
    "    ax = plt.axes(projection ='3d')\n",
    "    ax.plot(*V.T, 'bo', ms=1, alpha=0.5)\n",
    "    ax.quiver(*V[show_idx, :].T,\n",
    "              *F[show_idx, :].T,\n",
    "              color='red',\n",
    "              length=1,\n",
    "              label=r'$\\mathbf{F}(\\mathbf{v}(t, s))$')\n",
    "    ax = add_coordinate_frame(ax)\n",
    "    ax.legend()\n",
    "    ax.view_init(20, 120)\n",
    "    ax.set(xlabel='x', ylabel='y', zlabel='z')\n",
    "    ax.set_axis_off()\n",
    "    fig.tight_layout()\n",
    "    plt.show()"
   ]
  },
  {
   "cell_type": "code",
   "execution_count": null,
   "id": "8658c783-e7c2-4378-a42e-e056f5b76b55",
   "metadata": {},
   "outputs": [],
   "source": [
    "# compute unit normals from analytical partial derivative expressions\n",
    "V_T = v_t(T.ravel(), S.ravel())\n",
    "V_S = v_s(T.ravel(), S.ravel())\n",
    "n = np.cross(V_T, V_S)\n",
    "\n",
    "# visualization\n",
    "show_idx = np.random.randint(0, F.shape[0], size=21)\n",
    "with set_defense_context():\n",
    "    fig = plt.figure(figsize=(4, 4))\n",
    "    ax = plt.axes(projection ='3d')\n",
    "    ax.plot(*V.T, 'bo', ms=1, alpha=0.5)\n",
    "    ax.quiver(*V[show_idx, :].T,\n",
    "              *F[show_idx, :].T,\n",
    "              color='red',\n",
    "              length=1,\n",
    "              label=r'$\\mathbf{F}(\\mathbf{v}(t, s))$')\n",
    "    ax.quiver(*V[show_idx, :].T,\n",
    "          *n[show_idx, :].T,\n",
    "          color='black',\n",
    "          normalize=True,\n",
    "          length=1,\n",
    "          label=r'$\\mathbf{n}$')\n",
    "    ax = add_coordinate_frame(ax)\n",
    "    ax.legend()\n",
    "    ax.view_init(20, 120)\n",
    "    ax.set(xlabel='x', ylabel='y', zlabel='z')\n",
    "    ax.set_axis_off()\n",
    "    fig.tight_layout()\n",
    "    plt.show()"
   ]
  },
  {
   "cell_type": "code",
   "execution_count": null,
   "id": "66f6795c-b9d9-4e81-964f-0cd2b4530078",
   "metadata": {},
   "outputs": [],
   "source": [
    "# compute \"normalized\" vector field F across the surface v\n",
    "Fn = np.sum(F * n, axis=1)\n",
    "\n",
    "# visualization\n",
    "with set_defense_context():\n",
    "    fig = plt.figure(figsize=(5, 4))\n",
    "    ax = plt.axes(projection ='3d')\n",
    "    ax = add_coordinate_frame(ax)\n",
    "    cs = ax.scatter(*V.T, s=5, c=Fn)\n",
    "    cbar = fig.colorbar(cs, shrink=0.5, pad=0.01)\n",
    "    cbar.ax.set_ylabel(r'$\\mathbf{F} \\cdot \\mathbf{n}$')\n",
    "    ax.view_init(20, 120)\n",
    "    ax.set(xlabel='x', ylabel='y', zlabel='z')\n",
    "    ax.set_axis_off()\n",
    "    fig.tight_layout()\n",
    "    plt.show()"
   ]
  },
  {
   "cell_type": "code",
   "execution_count": null,
   "id": "a00977a4-deeb-4972-bc75-f2d079066ba9",
   "metadata": {},
   "outputs": [],
   "source": [
    "# visualization of normalized vector Field across parametric surface\n",
    "with set_defense_context():\n",
    "    fig = plt.figure(figsize=(4, 3))\n",
    "    ax = plt.axes()\n",
    "    cs = ax.scatter(T.ravel(), S.ravel(), s=2.5, c=Fn)\n",
    "    cbar = fig.colorbar(cs)\n",
    "    cbar.ax.set_ylabel(r'$\\mathbf{F} \\cdot \\mathbf{n}$')\n",
    "    ax.set(xlabel='$t$', ylabel='$s$')\n",
    "    fig.tight_layout()\n",
    "    plt.show()"
   ]
  },
  {
   "cell_type": "markdown",
   "id": "4ea73bf4-97cf-42d7-bddf-2e170e7b7cde",
   "metadata": {},
   "source": [
    "# Normals derived via spline interpolant"
   ]
  },
  {
   "cell_type": "code",
   "execution_count": null,
   "id": "44c78164-dcd2-48a2-aa14-8da01a741478",
   "metadata": {},
   "outputs": [],
   "source": [
    "# point cloud representation from scattered parametric surface\n",
    "x, y, z = V.T"
   ]
  },
  {
   "cell_type": "code",
   "execution_count": null,
   "id": "9348d3bf-48b5-466d-97fe-99f843cf02fc",
   "metadata": {},
   "outputs": [],
   "source": [
    "# B-spline interpolation\n",
    "interpolator = interpolate.SmoothBivariateSpline(x, y, z)\n",
    "z_interp = interpolator(x, y, grid=False)\n",
    "\n",
    "# visualization\n",
    "with set_defense_context():\n",
    "    fig = plt.figure(figsize=(4, 4))\n",
    "    ax = plt.axes(projection ='3d')\n",
    "    ax.plot(x, y, z_interp, 'bo', ms=1, alpha=0.5)\n",
    "    ax = add_coordinate_frame(ax)\n",
    "    ax.view_init(20, 120)\n",
    "    ax.set(xlabel='x', ylabel='y', zlabel='z')\n",
    "    ax.set_axis_off()\n",
    "    fig.tight_layout()\n",
    "    plt.show()"
   ]
  },
  {
   "cell_type": "code",
   "execution_count": null,
   "id": "5f75bdc0-67af-4750-8d50-0fa8e360dbd1",
   "metadata": {},
   "outputs": [],
   "source": [
    "# visualization of interpolation error\n",
    "with set_defense_context():\n",
    "    fig = plt.figure(figsize=(4, 3))\n",
    "    ax = plt.axes()\n",
    "    cs = ax.scatter(T.ravel(), S.ravel(), s=5, c=np.abs(z_interp-z))\n",
    "    cbar = fig.colorbar(cs)\n",
    "    cbar.ax.set_ylabel(r'$\\varepsilon(z, z_i)$')\n",
    "    ax.set(xlabel='$t$', ylabel='$s$')\n",
    "    plt.show()"
   ]
  },
  {
   "cell_type": "code",
   "execution_count": null,
   "id": "8307ace5-4c30-4985-b988-276e465043d3",
   "metadata": {},
   "outputs": [],
   "source": [
    "# compute unit normals from partial derivatives of interpolation of z\n",
    "dzdx_interp = interpolator(x, y, dx=1, dy=0, grid=False)\n",
    "dzdy_interp = interpolator(x, y, dx=0, dy=1, grid=False)\n",
    "n_interp = np.c_[-dzdx_interp,\n",
    "                 -dzdy_interp,\n",
    "                 np.ones_like(dzdy_interp)]\n",
    "np.all(np.isclose(n, n_interp))"
   ]
  },
  {
   "cell_type": "code",
   "execution_count": null,
   "id": "2655f22b-db5d-496e-976e-fd5fd735ca4b",
   "metadata": {},
   "outputs": [],
   "source": [
    "# error of the magnitudes of analytically computed and estimated normals\n",
    "n_mag = np.linalg.norm(n, axis=1)\n",
    "n_interp_mag = np.linalg.norm(n_interp, axis=1) \n",
    "\n",
    "with set_defense_context():\n",
    "    fig = plt.figure(figsize=(4, 3))\n",
    "    ax = plt.axes()\n",
    "    cs = ax.scatter(T.ravel(), S.ravel(), s=5, c=np.abs(n_interp_mag-n_mag))\n",
    "    cbar = fig.colorbar(cs)\n",
    "    cbar.ax.set_ylabel(r'$\\varepsilon(\\mathbf{n}, \\mathbf{n}_i)$')\n",
    "    ax.set(xlabel='$t$', ylabel='$s$')\n",
    "    plt.show()"
   ]
  },
  {
   "cell_type": "code",
   "execution_count": null,
   "id": "f01fe967-1560-43d1-9201-bad1f83a3887",
   "metadata": {},
   "outputs": [],
   "source": []
  }
 ],
 "metadata": {
  "kernelspec": {
   "display_name": "Python 3 (ipykernel)",
   "language": "python",
   "name": "python3"
  },
  "language_info": {
   "codemirror_mode": {
    "name": "ipython",
    "version": 3
   },
   "file_extension": ".py",
   "mimetype": "text/x-python",
   "name": "python",
   "nbconvert_exporter": "python",
   "pygments_lexer": "ipython3",
   "version": "3.9.16"
  }
 },
 "nbformat": 4,
 "nbformat_minor": 5
}
