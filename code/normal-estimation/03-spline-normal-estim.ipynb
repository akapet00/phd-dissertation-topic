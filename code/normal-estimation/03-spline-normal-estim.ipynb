{
 "cells": [
  {
   "cell_type": "code",
   "execution_count": null,
   "id": "577fc732-3d1f-42a2-a4c3-b5c2ccd55e5c",
   "metadata": {},
   "outputs": [],
   "source": [
    "import itertools\n",
    "\n",
    "import matplotlib.pyplot as plt\n",
    "import numpy as np\n",
    "from scipy import interpolate\n",
    "\n",
    "from utils import normals_to_rgb"
   ]
  },
  {
   "cell_type": "code",
   "execution_count": null,
   "id": "b02197d2-ec6c-4092-b03d-71fedb396fd4",
   "metadata": {},
   "outputs": [],
   "source": [
    "def v(t, s):\n",
    "    \"\"\"Parametric surface in 3-D:\n",
    "    v(t, s) = (t + 1) i + (s) j + (s^2 - t^2 + 1) k\n",
    "    \"\"\"\n",
    "    return np.c_[t + 1,\n",
    "                 s,\n",
    "                 s ** 2 - t ** 2 + 1]\n",
    "\n",
    "def v_t(t, s):\n",
    "    \"\"\"First derivative of parametric surface, v, wrt t:\n",
    "    v_t(t, s) = i  + (-2 t) k\n",
    "    \"\"\"\n",
    "    return np.c_[np.ones_like(t),\n",
    "                 np.zeros_like(t),\n",
    "                 - 2 * t]\n",
    "\n",
    "def v_s(t, s):\n",
    "    \"\"\"First derivative of parametric surface, v, wrt s:\n",
    "    v_s(t, s) = j + (2 s) k\n",
    "    \"\"\"\n",
    "    return np.c_[np.zeros_like(s),\n",
    "                 np.ones_like(s),\n",
    "                 2 * s]\n",
    "\n",
    "def f(x, y, z):\n",
    "    \"\"\"Vector field that passes through V(t, s):\n",
    "    \"\"\"\n",
    "    return np.c_[np.ones_like(x),\n",
    "                 np.ones_like(y),\n",
    "                 np.ones_like(z)]"
   ]
  },
  {
   "cell_type": "code",
   "execution_count": null,
   "id": "a6fbd297-3cda-4c64-b2c2-91a253e779aa",
   "metadata": {},
   "outputs": [],
   "source": [
    "def dblquad(func, bbox, args=(), degree=9):\n",
    "    \"\"\"Return the integral of a given 2-D function, `f(x, y)`, solution\n",
    "    of which is carried by using the Gauss-Legendre quadrature in 2-D.\n",
    "    Parameters\n",
    "    ----------\n",
    "    func : callable\n",
    "        Integrand function.\n",
    "    bbox : list or tuple\n",
    "        Integration domain [min(x), max(x), min(y), max(y)].\n",
    "    args : tuple, optional\n",
    "        Additional arguments for `func`.\n",
    "    degree : int, optional\n",
    "        Degree of the Gauss-Legendre quadrature.\n",
    "    Returns\n",
    "    -------\n",
    "    float\n",
    "        Integral of a given function.\n",
    "    \"\"\"\n",
    "    from scipy.special import roots_legendre\n",
    "    if not callable(func):\n",
    "        raise ValueError('`func` must be callable')\n",
    "    if not isinstance(bbox, (list, tuple, np.ndarray, )):\n",
    "        raise ValueError('Integration domain must be iterable.')\n",
    "    points, w = roots_legendre(degree)\n",
    "    x_a, x_b, y_a, y_b = bbox\n",
    "    x_scaler = (x_b - x_a) / 2\n",
    "    y_scaler = (y_b - y_a) / 2\n",
    "    x_scaled = x_scaler * (points + 1.) + x_a\n",
    "    y_scaled = y_scaler * (points + 1.) + y_a\n",
    "    X, Y = np.meshgrid(x_scaled, y_scaled)\n",
    "    val = (x_scaler * w) @ func(X, Y, *args) @ (y_scaler * w)\n",
    "    return val\n",
    "\n",
    "\n",
    "def elementwise_dblquad(points, values, degree=9, interp_func=None, **kwargs):\n",
    "    \"\"\"Return the approximate value of the integral for sampled 2-D\n",
    "    data by using the Gauss-Legendre quadrature in 2-D.\n",
    "    Parameters\n",
    "    ----------\n",
    "    points : numpy.ndarray\n",
    "        Data points of shape (n, 2), where n is the number of points.\n",
    "    values : numpy.ndarray\n",
    "        Sampled integrand function values of shape (n, ). If the data\n",
    "        is sampled over a grid it could also be of shape (m, m), where\n",
    "        m corresponds to the number of data points coordinates.\n",
    "    degree : int, optional\n",
    "        Degree of the Gauss-Legendre quadrature.\n",
    "    interp_func : callable, optional\n",
    "        Interpolation function. If not set radial basis function\n",
    "        interpolation is used: `scipy.interpolate.RBFInterpolator`.\n",
    "    kwargs : dict, optional\n",
    "        Additional keyword arguments for the interpolation function.\n",
    "    Returns\n",
    "    -------\n",
    "    float\n",
    "        Approximation of the integral for givend 2-D data.\n",
    "    \"\"\"\n",
    "    if not isinstance(values, (np.ndarray, )):\n",
    "        raise Exception('`values` must be array-like.')\n",
    "    try:\n",
    "        bbox = [points[:, 0].min().item(), points[:, 0].max().item(),\n",
    "                points[:, 1].min().item(), points[:, 1].max().item()]\n",
    "    except TypeError:\n",
    "        print('`points` must be a 2-column array.')\n",
    "    if interp_func is None:\n",
    "        func = interpolate.Rbf(points[:, 0], points[:, 1], values, **kwargs)\n",
    "    else:\n",
    "        func = interp_func(points, values, **kwargs)\n",
    "    return dblquad(func, bbox, degree=degree)"
   ]
  },
  {
   "cell_type": "markdown",
   "id": "b3dcd42f-a5d7-4acb-b345-e59f09053bb5",
   "metadata": {},
   "source": [
    "# Analitically"
   ]
  },
  {
   "cell_type": "code",
   "execution_count": null,
   "id": "b366e849-01f5-48ca-8245-cf89ba7f7a7f",
   "metadata": {},
   "outputs": [],
   "source": [
    "# integration domain\n",
    "t_a, t_b = -2, 2\n",
    "s_a, s_b = -2, 2\n",
    "\n",
    "# scattered points\n",
    "t = np.linspace(t_a, t_b, 51)\n",
    "s = np.linspace(s_a, s_b, 51)\n",
    "T, S = np.meshgrid(t, s)\n",
    "\n",
    "# scattered parametric surface\n",
    "V = v(T.ravel(), S.ravel())\n",
    "\n",
    "# visualization\n",
    "fig = plt.figure(figsize=(3, 3))\n",
    "ax = plt.axes(projection ='3d')\n",
    "ax.plot(*V.T, 'bo', ms=1, alpha=0.5)\n",
    "ax.set(xlabel='t', ylabel='s', zlabel='v')\n",
    "ax.view_init(20, 135)\n",
    "fig.tight_layout()\n",
    "plt.show()"
   ]
  },
  {
   "cell_type": "code",
   "execution_count": null,
   "id": "d1ca918f-cee4-4b9e-ba1d-48b8f6c3871e",
   "metadata": {},
   "outputs": [],
   "source": [
    "# compute vector field F across the surface v\n",
    "F = f(x, y, z)\n",
    "\n",
    "# visualization\n",
    "show_idx = np.random.randint(0, F.shape[0], size=21)\n",
    "fig = plt.figure(figsize=(3, 3))\n",
    "ax = plt.axes(projection ='3d')\n",
    "ax.plot(*V.T, 'bo', ms=1, alpha=0.5)\n",
    "ax.quiver(*V[show_idx, :].T,\n",
    "          *F[show_idx, :].T,\n",
    "          color='red',\n",
    "          length=1,\n",
    "          label='F(v(t, s))')\n",
    "ax.set(xlabel='t', ylabel='s', zlabel='v')\n",
    "ax.view_init(20, 135)\n",
    "fig.tight_layout()\n",
    "plt.show()"
   ]
  },
  {
   "cell_type": "code",
   "execution_count": null,
   "id": "8658c783-e7c2-4378-a42e-e056f5b76b55",
   "metadata": {},
   "outputs": [],
   "source": [
    "# compute unit normals\n",
    "V_T = v_t(T.ravel(), S.ravel())\n",
    "V_S = v_s(T.ravel(), S.ravel())\n",
    "n = np.cross(V_T, V_S)\n",
    "\n",
    "fig = plt.figure(figsize=(3, 3))\n",
    "ax = plt.axes(projection ='3d')\n",
    "ax.plot(*V.T, 'bo', ms=1, alpha=0.5)\n",
    "ax.quiver(*V[show_idx, :].T,\n",
    "          *F[show_idx, :].T,\n",
    "          color='red',\n",
    "          normalize=True,\n",
    "          length=1,\n",
    "          label='F(v(t, s))')\n",
    "ax.quiver(*V[show_idx, :].T,\n",
    "          *n[show_idx, :].T,\n",
    "          color='black',\n",
    "          normalize=True,\n",
    "          length=1,\n",
    "          label='n')\n",
    "ax.set(xlabel='t', ylabel='s', zlabel='v')\n",
    "ax.view_init(20, 135)\n",
    "fig.tight_layout()\n",
    "plt.show()"
   ]
  },
  {
   "cell_type": "code",
   "execution_count": null,
   "id": "66f6795c-b9d9-4e81-964f-0cd2b4530078",
   "metadata": {},
   "outputs": [],
   "source": [
    "# vector field F across the surface v\n",
    "fig = plt.figure(figsize=(5, 5))\n",
    "ax = plt.axes(projection ='3d')\n",
    "cs = ax.scatter(*V.T, s=10, c=values, )\n",
    "cbar = fig.colorbar(cs, shrink=0.35, pad=0.15)\n",
    "cbar.ax.set_ylabel('F n')\n",
    "ax.set(xlabel='t', ylabel='s', zlabel='v(t, s)')\n",
    "ax.view_init(20, 135)\n",
    "fig.tight_layout()\n",
    "plt.show()"
   ]
  },
  {
   "cell_type": "code",
   "execution_count": null,
   "id": "a00977a4-deeb-4972-bc75-f2d079066ba9",
   "metadata": {},
   "outputs": [],
   "source": [
    "# vector field F across the surface v\n",
    "fig = plt.figure(figsize=(4, 3))\n",
    "ax = plt.axes()\n",
    "cs = ax.scatter(*points.T, c=values)\n",
    "cbar = fig.colorbar(cs)\n",
    "cbar.ax.set_ylabel('F n')\n",
    "ax.set(xlabel='t', ylabel='s')\n",
    "plt.show()"
   ]
  },
  {
   "cell_type": "code",
   "execution_count": null,
   "id": "49c4c9e6-b7b8-4726-8b54-7899b8edf645",
   "metadata": {},
   "outputs": [],
   "source": [
    "points = np.c_[T.ravel(), S.ravel()]  # 2-D set of points\n",
    "values = np.sum(F * n, axis=1)  # integrand = F(V(t, s)) · n(x, y, z)\n",
    "elementwise_dblquad(points, values)"
   ]
  },
  {
   "cell_type": "code",
   "execution_count": null,
   "id": "9d5f3fb7-0da9-474c-881d-b0b0394810a4",
   "metadata": {},
   "outputs": [],
   "source": [
    "I_exact = 16\n",
    "I_exact"
   ]
  },
  {
   "cell_type": "markdown",
   "id": "4ea73bf4-97cf-42d7-bddf-2e170e7b7cde",
   "metadata": {},
   "source": [
    "# NURBS"
   ]
  },
  {
   "cell_type": "code",
   "execution_count": null,
   "id": "44c78164-dcd2-48a2-aa14-8da01a741478",
   "metadata": {},
   "outputs": [],
   "source": [
    "# point cloud representation from scattered parametric surface\n",
    "x, y, z = V.T"
   ]
  },
  {
   "cell_type": "code",
   "execution_count": null,
   "id": "9348d3bf-48b5-466d-97fe-99f843cf02fc",
   "metadata": {},
   "outputs": [],
   "source": [
    "# B-spline interpolation\n",
    "interpolator = interpolate.SmoothBivariateSpline(x, y, z)\n",
    "z_interp = interpolator(x, y, grid=False)\n",
    "\n",
    "# visualization\n",
    "fig = plt.figure(figsize=(3, 3))\n",
    "ax = plt.axes(projection ='3d')\n",
    "ax.plot(x, y, z_interp, 'bo', ms=1, alpha=0.5)\n",
    "ax.set(xlabel='x', ylabel='y', zlabel='z')\n",
    "ax.view_init(25, 125)\n",
    "plt.show()\n",
    "\n",
    "# error\n",
    "fig = plt.figure(figsize=(4, 3))\n",
    "ax = plt.axes()\n",
    "cs = ax.scatter(x, y, c=np.abs(z_interp - z))\n",
    "cbar = fig.colorbar(cs)\n",
    "cbar.ax.set_ylabel('abs. error in z')\n",
    "ax.set(xlabel='x', ylabel='y')\n",
    "plt.show()"
   ]
  },
  {
   "cell_type": "code",
   "execution_count": null,
   "id": "8307ace5-4c30-4985-b988-276e465043d3",
   "metadata": {},
   "outputs": [],
   "source": [
    "dzdx_interp = interpolator(x, y, dx=1, dy=0, grid=False)\n",
    "dzdy_interp = interpolator(x, y, dx=0, dy=1, grid=False)\n",
    "n_interp = np.c_[-dzdx_interp,\n",
    "                 -dzdy_interp,\n",
    "                 np.ones_like(dzdy_interp)]\n",
    "np.all(np.isclose(n, n_interp))"
   ]
  },
  {
   "cell_type": "code",
   "execution_count": null,
   "id": "6a8f1c8b-fc7c-4301-99f0-b7aebee07205",
   "metadata": {},
   "outputs": [],
   "source": [
    "points = np.c_[x, y]  # 2-D set of points\n",
    "values = np.sum(F * n_interp, axis=1)  # integrand = F(V(t, s)) · n(x, y, z)\n",
    "elementwise_dblquad(points, values)"
   ]
  },
  {
   "cell_type": "code",
   "execution_count": null,
   "id": "449be317-0b1d-465b-8c3a-c2e66fc0171a",
   "metadata": {},
   "outputs": [],
   "source": [
    "I_exact"
   ]
  },
  {
   "cell_type": "code",
   "execution_count": null,
   "id": "db2a79b9-90d4-48f5-864e-3d86f84a102e",
   "metadata": {},
   "outputs": [],
   "source": [
    "interpolator.integral(t_a, t_b, s_a, s_b)"
   ]
  },
  {
   "cell_type": "code",
   "execution_count": null,
   "id": "ab5400c3-f97e-461a-b8d9-258bf39cfb15",
   "metadata": {},
   "outputs": [],
   "source": []
  }
 ],
 "metadata": {
  "kernelspec": {
   "display_name": "Python 3 (ipykernel)",
   "language": "python",
   "name": "python3"
  },
  "language_info": {
   "codemirror_mode": {
    "name": "ipython",
    "version": 3
   },
   "file_extension": ".py",
   "mimetype": "text/x-python",
   "name": "python",
   "nbconvert_exporter": "python",
   "pygments_lexer": "ipython3",
   "version": "3.9.16"
  }
 },
 "nbformat": 4,
 "nbformat_minor": 5
}
