{
 "cells": [
  {
   "cell_type": "code",
   "execution_count": null,
   "id": "14d31171-cd3a-4a27-b66b-2f1d6d5f808c",
   "metadata": {},
   "outputs": [],
   "source": [
    "import os\n",
    "\n",
    "import matplotlib.pyplot as plt\n",
    "import numpy as np\n",
    "import seaborn as sns\n",
    "\n",
    "from plotting import set_axes_equal, set_defense_context\n",
    "from utils import _pca as pca"
   ]
  },
  {
   "cell_type": "code",
   "execution_count": null,
   "id": "b02c841e-cf36-4858-ac9f-763e3d48bd87",
   "metadata": {},
   "outputs": [],
   "source": [
    "%config InlineBackend.figure_format = 'retina'"
   ]
  },
  {
   "cell_type": "code",
   "execution_count": null,
   "id": "83a174a9-118a-45d5-b76f-fda4d3a5ed67",
   "metadata": {},
   "outputs": [],
   "source": [
    "def generate_random_pc(n_points=100, slope=(0.5, 0.), extent=2, noise=1.5):\n",
    "    \"\"\"Return a randomly distributed point cloud generated around a\n",
    "    target point.\n",
    "    \n",
    "    Parameters\n",
    "    ----------\n",
    "    n_points : int, optional\n",
    "        Number of points in the point cloud.\n",
    "    slope : tuple, optional\n",
    "        Slope of the x- and y-component of the point cloud.\n",
    "    extent : number, optional\n",
    "        Limits for x- and y-axis.\n",
    "    noise : number, optional\n",
    "        Additional noise.\n",
    "    \n",
    "    Returns\n",
    "    -------\n",
    "    tuple\n",
    "        Array of points and the target point.\n",
    "    \"\"\"\n",
    "    slope_x, slope_y = slope\n",
    "    x_target = 0\n",
    "    y_target = 0\n",
    "    z_target = slope_x * x_target + slope_y * y_target\n",
    "    target = (0, 0, z_target)\n",
    "    x = np.random.normal(loc=x_target, scale=extent, size=n_points)\n",
    "    y = np.random.normal(loc=y_target, scale=extent, size=n_points)\n",
    "    z = slope_x * x + slope_y * y + np.random.normal(scale=noise, size=x.size)\n",
    "    xyz = np.c_[x, y, z]\n",
    "    return xyz, target"
   ]
  },
  {
   "cell_type": "code",
   "execution_count": null,
   "id": "4899b09e-c258-417c-8c5a-d48e17f408c1",
   "metadata": {},
   "outputs": [],
   "source": [
    "# noisy 2-D plane in 3-D space\n",
    "\n",
    "slope = (0.5, 0)\n",
    "np.random.seed(12346789)\n",
    "xyz, target = generate_random_pc(slope=slope)\n",
    "target"
   ]
  },
  {
   "cell_type": "code",
   "execution_count": null,
   "id": "e3ec9428-86fc-47fb-9fe5-8de3f724c38c",
   "metadata": {},
   "outputs": [],
   "source": [
    "# its \"clean\", linearly sampled cunterpart\n",
    "\n",
    "xs = np.linspace(xyz[:, 0].min(), xyz[:, 0].max(), 33)\n",
    "ys = np.linspace(xyz[:, 1].min(), xyz[:, 1].max(), 33)\n",
    "X, Y = np.meshgrid(xs, ys)\n",
    "Z = slope[0] * X + slope[1] * Y"
   ]
  },
  {
   "cell_type": "code",
   "execution_count": null,
   "id": "5ce71235-8ec9-462b-a6a4-dca30f6e5938",
   "metadata": {},
   "outputs": [],
   "source": [
    "# compute eigen vectors and values for clean point cloud\n",
    "\n",
    "eigenvec, eigenval = pca(xyz)"
   ]
  },
  {
   "cell_type": "code",
   "execution_count": null,
   "id": "b997fb8c-d435-42d0-acda-0fd49b27c003",
   "metadata": {},
   "outputs": [],
   "source": [
    "# select the unit normal as the eigen vector with the smallest eigen value\n",
    "\n",
    "n = eigenvec[:, np.where(eigenval == eigenval.min())[0]].flatten()"
   ]
  },
  {
   "cell_type": "code",
   "execution_count": null,
   "id": "8ed9423d-60ef-474a-9caa-8544a122d9ec",
   "metadata": {},
   "outputs": [],
   "source": [
    "# extract the binormal vector and tangent vector\n",
    "\n",
    "b = eigenvec[:, 0]\n",
    "t = eigenvec[:, 1]"
   ]
  },
  {
   "cell_type": "code",
   "execution_count": null,
   "id": "b77dffb8-1197-486a-9817-7f656a5e5b54",
   "metadata": {},
   "outputs": [],
   "source": [
    "with set_defense_context():\n",
    "    fig = plt.figure(figsize=(4, 4), constrained_layout=True)\n",
    "    ax = plt.axes(projection ='3d')\n",
    "    \n",
    "    # noisy point cloud\n",
    "    ax.scatter(*xyz.T, fc='w', ec='k', label=r'$nbhd(\\mathbf{x}_{i})$')\n",
    "    ax.plot(*target, 'ko', mfc='r', ms=5, zorder=5, label=r'$\\mathbf{x}_{i}$')\n",
    "    \n",
    "    # ground truth 2-D plane\n",
    "    ax.plot_surface(X, Y, Z, color='k', ec='none', alpha=0.1)\n",
    "    ax.text(x=xs.max(),\n",
    "            y=ys.min(),\n",
    "            z=slope[0] * xs.max() + slope[1] * ys.min(),\n",
    "            s=r'$tp(\\mathbf{x}_{i})$')\n",
    "    \n",
    "    # unit normal vector in target point\n",
    "    ax.quiver(*target, *n, normalize=True, color='k',\n",
    "              length=5, arrow_length_ratio=0.2)\n",
    "    ax.text(x=n[0]-2, y=n[1], z=n[2]+3.5, s=r'$\\mathbf{\\hat n}$')\n",
    "    \n",
    "    # binormal vector\n",
    "    ax.quiver(*target, *b, normalize=True, color='k',\n",
    "              length=5, arrow_length_ratio=0.2)\n",
    "    ax.text(x=b[0]-7.5, y=b[1]-2, z=b[2]-0.5, s=r'$\\mathbf{\\hat b}$')\n",
    "    \n",
    "    # tangent vector\n",
    "    ax.quiver(*target, *t, normalize=True, color='k',\n",
    "              length=5, arrow_length_ratio=0.2)\n",
    "    ax.text(x=t[0]-1, y=t[1]-4, z=t[2]-0.5, s=r'$\\mathbf{\\hat t}$')\n",
    "    ax.view_init(15, -135)\n",
    "    ax.set_box_aspect([1, 1, 1])\n",
    "    ax = set_axes_equal(ax)\n",
    "    ax.set_axis_off()\n",
    "    ax.legend(loc=1)\n",
    "    plt.show()\n",
    "    fname = '02-unit-normal-estimation-pca-random-pc.png'\n",
    "    # fig.savefig(os.path.join('figures', fname), dpi=500, bbox_inches='tight')"
   ]
  },
  {
   "cell_type": "code",
   "execution_count": null,
   "id": "122143b7-ae0a-461e-a088-ceeb7f7349fc",
   "metadata": {},
   "outputs": [],
   "source": []
  }
 ],
 "metadata": {
  "kernelspec": {
   "display_name": "Python 3 (ipykernel)",
   "language": "python",
   "name": "python3"
  },
  "language_info": {
   "codemirror_mode": {
    "name": "ipython",
    "version": 3
   },
   "file_extension": ".py",
   "mimetype": "text/x-python",
   "name": "python",
   "nbconvert_exporter": "python",
   "pygments_lexer": "ipython3",
   "version": "3.9.16"
  }
 },
 "nbformat": 4,
 "nbformat_minor": 5
}
